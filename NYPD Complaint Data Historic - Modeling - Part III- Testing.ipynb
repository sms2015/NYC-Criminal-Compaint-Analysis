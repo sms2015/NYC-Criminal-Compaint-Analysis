{
 "cells": [
  {
   "cell_type": "code",
   "execution_count": 1,
   "metadata": {
    "collapsed": true
   },
   "outputs": [],
   "source": [
    "%matplotlib inline"
   ]
  },
  {
   "cell_type": "code",
   "execution_count": 2,
   "metadata": {},
   "outputs": [],
   "source": [
    "import numpy as np\n",
    "import pandas as pd\n",
    "import datetime\n",
    "\n",
    "import matplotlib.pyplot as plt\n",
    "import matplotlib.dates as mdates\n",
    "import seaborn as sns\n",
    "\n",
    "#import geopandas as gpd\n",
    "#from shapely import geometry\n",
    "#from geopandas import GeoSeries, GeoDataFrame\n",
    "\n",
    "from pandas.plotting import lag_plot\n",
    "from pandas.plotting import autocorrelation_plot\n",
    "#import statsmodels.api as sm\n",
    "\n",
    "from textwrap import wrap\n",
    "\n",
    "from sklearn.metrics import mean_squared_error\n",
    "from sklearn.metrics import mean_absolute_error\n",
    "\n",
    "from sklearn.preprocessing import scale, StandardScaler\n",
    "from sklearn import linear_model\n",
    "from sklearn.linear_model import Ridge\n",
    "from sklearn.linear_model import Lasso\n",
    "\n",
    "from sklearn.model_selection import TimeSeriesSplit"
   ]
  },
  {
   "cell_type": "markdown",
   "metadata": {},
   "source": [
    "# Import Data"
   ]
  },
  {
   "cell_type": "code",
   "execution_count": 3,
   "metadata": {
    "collapsed": true
   },
   "outputs": [],
   "source": [
    "#read data in from pickle file\n",
    "df = pd.read_pickle('C:/Users/Stacey/Downloads/NY_complaint_data_for_model_prec62.pkl')"
   ]
  },
  {
   "cell_type": "code",
   "execution_count": 4,
   "metadata": {},
   "outputs": [
    {
     "data": {
      "text/plain": [
       "(132, 7)"
      ]
     },
     "execution_count": 4,
     "metadata": {},
     "output_type": "execute_result"
    }
   ],
   "source": [
    "df.shape"
   ]
  },
  {
   "cell_type": "code",
   "execution_count": 5,
   "metadata": {},
   "outputs": [
    {
     "data": {
      "text/html": [
       "<div>\n",
       "<style>\n",
       "    .dataframe thead tr:only-child th {\n",
       "        text-align: right;\n",
       "    }\n",
       "\n",
       "    .dataframe thead th {\n",
       "        text-align: left;\n",
       "    }\n",
       "\n",
       "    .dataframe tbody tr th {\n",
       "        vertical-align: top;\n",
       "    }\n",
       "</style>\n",
       "<table border=\"1\" class=\"dataframe\">\n",
       "  <thead>\n",
       "    <tr style=\"text-align: right;\">\n",
       "      <th></th>\n",
       "      <th>CMPLNT_FR_DATE_YEAR</th>\n",
       "      <th>CMPLNT_FR_DATE_MONTH</th>\n",
       "      <th>BORO</th>\n",
       "      <th>LAW_CAT_CD</th>\n",
       "      <th>OFNS_DESC</th>\n",
       "      <th>CAT_OFNS</th>\n",
       "      <th>CMPLNT_NUM_count</th>\n",
       "    </tr>\n",
       "  </thead>\n",
       "  <tbody>\n",
       "    <tr>\n",
       "      <th>4</th>\n",
       "      <td>2006</td>\n",
       "      <td>1</td>\n",
       "      <td>BROOKLYN</td>\n",
       "      <td>FELONY</td>\n",
       "      <td>GRAND LARCENY</td>\n",
       "      <td>FELONY-GRAND LARCENY</td>\n",
       "      <td>19</td>\n",
       "    </tr>\n",
       "  </tbody>\n",
       "</table>\n",
       "</div>"
      ],
      "text/plain": [
       "   CMPLNT_FR_DATE_YEAR  CMPLNT_FR_DATE_MONTH      BORO LAW_CAT_CD  \\\n",
       "4                 2006                     1  BROOKLYN     FELONY   \n",
       "\n",
       "       OFNS_DESC              CAT_OFNS  CMPLNT_NUM_count  \n",
       "4  GRAND LARCENY  FELONY-GRAND LARCENY                19  "
      ]
     },
     "execution_count": 5,
     "metadata": {},
     "output_type": "execute_result"
    }
   ],
   "source": [
    "df.head(1)"
   ]
  },
  {
   "cell_type": "markdown",
   "metadata": {},
   "source": [
    "# Model crime incidence with basic Time Series\n",
    "P = centroid of precinct 75 (the highest crime precinct in the city)  \n",
    "R = 0.5 miles (2640 feet)  \n",
    "O = Grand Larceny (felony with the highest incidence in all boroughs)  \n",
    "\n",
    "Notes: points in lower crime precincts as well as lower incidence crime types will likely require a larger radius to model as there won't be as many crimes within a half mile radius.  "
   ]
  },
  {
   "cell_type": "code",
   "execution_count": 6,
   "metadata": {
    "collapsed": true
   },
   "outputs": [],
   "source": [
    "#rename columns\n",
    "df.rename(columns={'CMPLNT_FR_DATE_YEAR':'YEAR',\n",
    " 'CMPLNT_FR_DATE_MONTH':'MONTH',\n",
    " 'LAW_CAT_CD':'CRIME_CAT',\n",
    " 'OFNS_DESC':'OFFENSE',\n",
    " 'CMPLNT_NUM_count':'COUNT'}, inplace = True)"
   ]
  },
  {
   "cell_type": "code",
   "execution_count": 7,
   "metadata": {},
   "outputs": [
    {
     "data": {
      "text/html": [
       "<div>\n",
       "<style>\n",
       "    .dataframe thead tr:only-child th {\n",
       "        text-align: right;\n",
       "    }\n",
       "\n",
       "    .dataframe thead th {\n",
       "        text-align: left;\n",
       "    }\n",
       "\n",
       "    .dataframe tbody tr th {\n",
       "        vertical-align: top;\n",
       "    }\n",
       "</style>\n",
       "<table border=\"1\" class=\"dataframe\">\n",
       "  <thead>\n",
       "    <tr style=\"text-align: right;\">\n",
       "      <th></th>\n",
       "      <th>YEAR</th>\n",
       "      <th>MONTH</th>\n",
       "      <th>BORO</th>\n",
       "      <th>CRIME_CAT</th>\n",
       "      <th>OFFENSE</th>\n",
       "      <th>CAT_OFNS</th>\n",
       "      <th>COUNT</th>\n",
       "    </tr>\n",
       "  </thead>\n",
       "  <tbody>\n",
       "    <tr>\n",
       "      <th>4</th>\n",
       "      <td>2006</td>\n",
       "      <td>1</td>\n",
       "      <td>BROOKLYN</td>\n",
       "      <td>FELONY</td>\n",
       "      <td>GRAND LARCENY</td>\n",
       "      <td>FELONY-GRAND LARCENY</td>\n",
       "      <td>19</td>\n",
       "    </tr>\n",
       "  </tbody>\n",
       "</table>\n",
       "</div>"
      ],
      "text/plain": [
       "   YEAR  MONTH      BORO CRIME_CAT        OFFENSE              CAT_OFNS  COUNT\n",
       "4  2006      1  BROOKLYN    FELONY  GRAND LARCENY  FELONY-GRAND LARCENY     19"
      ]
     },
     "execution_count": 7,
     "metadata": {},
     "output_type": "execute_result"
    }
   ],
   "source": [
    "df.head(1)"
   ]
  },
  {
   "cell_type": "markdown",
   "metadata": {},
   "source": [
    "** Set up as a time series **"
   ]
  },
  {
   "cell_type": "code",
   "execution_count": 8,
   "metadata": {
    "collapsed": true
   },
   "outputs": [],
   "source": [
    "#create a date (set date for each month as 1st of the month)\n",
    "df['DAY'] = 1 \n",
    "df['DATE'] = pd.to_datetime(df[['YEAR','MONTH','DAY']])"
   ]
  },
  {
   "cell_type": "code",
   "execution_count": 9,
   "metadata": {
    "collapsed": true
   },
   "outputs": [],
   "source": [
    "#order by date\n",
    "df = df.sort_values('DATE')"
   ]
  },
  {
   "cell_type": "code",
   "execution_count": 10,
   "metadata": {},
   "outputs": [
    {
     "data": {
      "text/html": [
       "<div>\n",
       "<style>\n",
       "    .dataframe thead tr:only-child th {\n",
       "        text-align: right;\n",
       "    }\n",
       "\n",
       "    .dataframe thead th {\n",
       "        text-align: left;\n",
       "    }\n",
       "\n",
       "    .dataframe tbody tr th {\n",
       "        vertical-align: top;\n",
       "    }\n",
       "</style>\n",
       "<table border=\"1\" class=\"dataframe\">\n",
       "  <thead>\n",
       "    <tr style=\"text-align: right;\">\n",
       "      <th></th>\n",
       "      <th>YEAR</th>\n",
       "      <th>MONTH</th>\n",
       "      <th>BORO</th>\n",
       "      <th>CRIME_CAT</th>\n",
       "      <th>OFFENSE</th>\n",
       "      <th>CAT_OFNS</th>\n",
       "      <th>COUNT</th>\n",
       "      <th>DAY</th>\n",
       "      <th>DATE</th>\n",
       "    </tr>\n",
       "  </thead>\n",
       "  <tbody>\n",
       "    <tr>\n",
       "      <th>4</th>\n",
       "      <td>2006</td>\n",
       "      <td>1</td>\n",
       "      <td>BROOKLYN</td>\n",
       "      <td>FELONY</td>\n",
       "      <td>GRAND LARCENY</td>\n",
       "      <td>FELONY-GRAND LARCENY</td>\n",
       "      <td>19</td>\n",
       "      <td>1</td>\n",
       "      <td>2006-01-01</td>\n",
       "    </tr>\n",
       "    <tr>\n",
       "      <th>29</th>\n",
       "      <td>2006</td>\n",
       "      <td>2</td>\n",
       "      <td>BROOKLYN</td>\n",
       "      <td>FELONY</td>\n",
       "      <td>GRAND LARCENY</td>\n",
       "      <td>FELONY-GRAND LARCENY</td>\n",
       "      <td>12</td>\n",
       "      <td>1</td>\n",
       "      <td>2006-02-01</td>\n",
       "    </tr>\n",
       "    <tr>\n",
       "      <th>55</th>\n",
       "      <td>2006</td>\n",
       "      <td>3</td>\n",
       "      <td>BROOKLYN</td>\n",
       "      <td>FELONY</td>\n",
       "      <td>GRAND LARCENY</td>\n",
       "      <td>FELONY-GRAND LARCENY</td>\n",
       "      <td>17</td>\n",
       "      <td>1</td>\n",
       "      <td>2006-03-01</td>\n",
       "    </tr>\n",
       "    <tr>\n",
       "      <th>79</th>\n",
       "      <td>2006</td>\n",
       "      <td>4</td>\n",
       "      <td>BROOKLYN</td>\n",
       "      <td>FELONY</td>\n",
       "      <td>GRAND LARCENY</td>\n",
       "      <td>FELONY-GRAND LARCENY</td>\n",
       "      <td>13</td>\n",
       "      <td>1</td>\n",
       "      <td>2006-04-01</td>\n",
       "    </tr>\n",
       "    <tr>\n",
       "      <th>100</th>\n",
       "      <td>2006</td>\n",
       "      <td>5</td>\n",
       "      <td>BROOKLYN</td>\n",
       "      <td>FELONY</td>\n",
       "      <td>GRAND LARCENY</td>\n",
       "      <td>FELONY-GRAND LARCENY</td>\n",
       "      <td>12</td>\n",
       "      <td>1</td>\n",
       "      <td>2006-05-01</td>\n",
       "    </tr>\n",
       "  </tbody>\n",
       "</table>\n",
       "</div>"
      ],
      "text/plain": [
       "     YEAR  MONTH      BORO CRIME_CAT        OFFENSE              CAT_OFNS  \\\n",
       "4    2006      1  BROOKLYN    FELONY  GRAND LARCENY  FELONY-GRAND LARCENY   \n",
       "29   2006      2  BROOKLYN    FELONY  GRAND LARCENY  FELONY-GRAND LARCENY   \n",
       "55   2006      3  BROOKLYN    FELONY  GRAND LARCENY  FELONY-GRAND LARCENY   \n",
       "79   2006      4  BROOKLYN    FELONY  GRAND LARCENY  FELONY-GRAND LARCENY   \n",
       "100  2006      5  BROOKLYN    FELONY  GRAND LARCENY  FELONY-GRAND LARCENY   \n",
       "\n",
       "     COUNT  DAY       DATE  \n",
       "4       19    1 2006-01-01  \n",
       "29      12    1 2006-02-01  \n",
       "55      17    1 2006-03-01  \n",
       "79      13    1 2006-04-01  \n",
       "100     12    1 2006-05-01  "
      ]
     },
     "execution_count": 10,
     "metadata": {},
     "output_type": "execute_result"
    }
   ],
   "source": [
    "df.head(5)"
   ]
  },
  {
   "cell_type": "code",
   "execution_count": 11,
   "metadata": {},
   "outputs": [
    {
     "data": {
      "text/plain": [
       "(132, 132)"
      ]
     },
     "execution_count": 11,
     "metadata": {},
     "output_type": "execute_result"
    }
   ],
   "source": [
    "#check that there is an observation for all 132 months(12 months * 11 years)\n",
    "len(df.DATE.unique()), len(df)"
   ]
  },
  {
   "cell_type": "code",
   "execution_count": 12,
   "metadata": {
    "collapsed": true
   },
   "outputs": [],
   "source": [
    "#set up a new dataframe\n",
    "dfM = df.copy()"
   ]
  },
  {
   "cell_type": "code",
   "execution_count": 13,
   "metadata": {},
   "outputs": [
    {
     "data": {
      "text/html": [
       "<div>\n",
       "<style>\n",
       "    .dataframe thead tr:only-child th {\n",
       "        text-align: right;\n",
       "    }\n",
       "\n",
       "    .dataframe thead th {\n",
       "        text-align: left;\n",
       "    }\n",
       "\n",
       "    .dataframe tbody tr th {\n",
       "        vertical-align: top;\n",
       "    }\n",
       "</style>\n",
       "<table border=\"1\" class=\"dataframe\">\n",
       "  <thead>\n",
       "    <tr style=\"text-align: right;\">\n",
       "      <th></th>\n",
       "      <th>YEAR</th>\n",
       "      <th>MONTH</th>\n",
       "      <th>BORO</th>\n",
       "      <th>CRIME_CAT</th>\n",
       "      <th>OFFENSE</th>\n",
       "      <th>CAT_OFNS</th>\n",
       "      <th>COUNT</th>\n",
       "      <th>DAY</th>\n",
       "      <th>DATE</th>\n",
       "      <th>COUNT_s1</th>\n",
       "      <th>diff_1</th>\n",
       "    </tr>\n",
       "  </thead>\n",
       "  <tbody>\n",
       "    <tr>\n",
       "      <th>4</th>\n",
       "      <td>2006</td>\n",
       "      <td>1</td>\n",
       "      <td>BROOKLYN</td>\n",
       "      <td>FELONY</td>\n",
       "      <td>GRAND LARCENY</td>\n",
       "      <td>FELONY-GRAND LARCENY</td>\n",
       "      <td>19</td>\n",
       "      <td>1</td>\n",
       "      <td>2006-01-01</td>\n",
       "      <td>NaN</td>\n",
       "      <td>NaN</td>\n",
       "    </tr>\n",
       "    <tr>\n",
       "      <th>29</th>\n",
       "      <td>2006</td>\n",
       "      <td>2</td>\n",
       "      <td>BROOKLYN</td>\n",
       "      <td>FELONY</td>\n",
       "      <td>GRAND LARCENY</td>\n",
       "      <td>FELONY-GRAND LARCENY</td>\n",
       "      <td>12</td>\n",
       "      <td>1</td>\n",
       "      <td>2006-02-01</td>\n",
       "      <td>19.0</td>\n",
       "      <td>-7.0</td>\n",
       "    </tr>\n",
       "    <tr>\n",
       "      <th>55</th>\n",
       "      <td>2006</td>\n",
       "      <td>3</td>\n",
       "      <td>BROOKLYN</td>\n",
       "      <td>FELONY</td>\n",
       "      <td>GRAND LARCENY</td>\n",
       "      <td>FELONY-GRAND LARCENY</td>\n",
       "      <td>17</td>\n",
       "      <td>1</td>\n",
       "      <td>2006-03-01</td>\n",
       "      <td>12.0</td>\n",
       "      <td>5.0</td>\n",
       "    </tr>\n",
       "    <tr>\n",
       "      <th>79</th>\n",
       "      <td>2006</td>\n",
       "      <td>4</td>\n",
       "      <td>BROOKLYN</td>\n",
       "      <td>FELONY</td>\n",
       "      <td>GRAND LARCENY</td>\n",
       "      <td>FELONY-GRAND LARCENY</td>\n",
       "      <td>13</td>\n",
       "      <td>1</td>\n",
       "      <td>2006-04-01</td>\n",
       "      <td>17.0</td>\n",
       "      <td>-4.0</td>\n",
       "    </tr>\n",
       "    <tr>\n",
       "      <th>100</th>\n",
       "      <td>2006</td>\n",
       "      <td>5</td>\n",
       "      <td>BROOKLYN</td>\n",
       "      <td>FELONY</td>\n",
       "      <td>GRAND LARCENY</td>\n",
       "      <td>FELONY-GRAND LARCENY</td>\n",
       "      <td>12</td>\n",
       "      <td>1</td>\n",
       "      <td>2006-05-01</td>\n",
       "      <td>13.0</td>\n",
       "      <td>-1.0</td>\n",
       "    </tr>\n",
       "  </tbody>\n",
       "</table>\n",
       "</div>"
      ],
      "text/plain": [
       "     YEAR  MONTH      BORO CRIME_CAT        OFFENSE              CAT_OFNS  \\\n",
       "4    2006      1  BROOKLYN    FELONY  GRAND LARCENY  FELONY-GRAND LARCENY   \n",
       "29   2006      2  BROOKLYN    FELONY  GRAND LARCENY  FELONY-GRAND LARCENY   \n",
       "55   2006      3  BROOKLYN    FELONY  GRAND LARCENY  FELONY-GRAND LARCENY   \n",
       "79   2006      4  BROOKLYN    FELONY  GRAND LARCENY  FELONY-GRAND LARCENY   \n",
       "100  2006      5  BROOKLYN    FELONY  GRAND LARCENY  FELONY-GRAND LARCENY   \n",
       "\n",
       "     COUNT  DAY       DATE  COUNT_s1  diff_1  \n",
       "4       19    1 2006-01-01       NaN     NaN  \n",
       "29      12    1 2006-02-01      19.0    -7.0  \n",
       "55      17    1 2006-03-01      12.0     5.0  \n",
       "79      13    1 2006-04-01      17.0    -4.0  \n",
       "100     12    1 2006-05-01      13.0    -1.0  "
      ]
     },
     "execution_count": 13,
     "metadata": {},
     "output_type": "execute_result"
    }
   ],
   "source": [
    "#Difference by 1 and view time series and resulting auto correlation\n",
    "dfM['COUNT_s1'] = dfM['COUNT'].shift(1)\n",
    "dfM['diff_1'] = df.COUNT - dfM.COUNT_s1\n",
    "dfM.head(5)"
   ]
  },
  {
   "cell_type": "markdown",
   "metadata": {},
   "source": [
    "# Baseline model/ Transform the data for supervised learning predicting one Month ahead\n",
    "For Time Series Model the naive model is used as the baseline: the value at the previous time step (t-1) is used to predict the expected outcome at the next time step (t+1)\n",
    "  \n",
    "Example:  Predict Jan if Dec is known  \n",
    "Actual = Jan 2016  \n",
    "Prediction = Dec 2015    "
   ]
  },
  {
   "cell_type": "code",
   "execution_count": 14,
   "metadata": {
    "collapsed": true
   },
   "outputs": [],
   "source": [
    "#Create the target variable: t+1 \n",
    "#for the Jan observation: y = t+1 = Jan, X = t = Dec\n",
    "dfM['t+1'] = dfM['COUNT']  #X\n",
    "dfM['t'] = dfM['COUNT_s1']  #y"
   ]
  },
  {
   "cell_type": "code",
   "execution_count": 15,
   "metadata": {
    "scrolled": true
   },
   "outputs": [
    {
     "data": {
      "text/html": [
       "<div>\n",
       "<style>\n",
       "    .dataframe thead tr:only-child th {\n",
       "        text-align: right;\n",
       "    }\n",
       "\n",
       "    .dataframe thead th {\n",
       "        text-align: left;\n",
       "    }\n",
       "\n",
       "    .dataframe tbody tr th {\n",
       "        vertical-align: top;\n",
       "    }\n",
       "</style>\n",
       "<table border=\"1\" class=\"dataframe\">\n",
       "  <thead>\n",
       "    <tr style=\"text-align: right;\">\n",
       "      <th></th>\n",
       "      <th>YEAR</th>\n",
       "      <th>MONTH</th>\n",
       "      <th>BORO</th>\n",
       "      <th>CRIME_CAT</th>\n",
       "      <th>OFFENSE</th>\n",
       "      <th>CAT_OFNS</th>\n",
       "      <th>COUNT</th>\n",
       "      <th>DAY</th>\n",
       "      <th>DATE</th>\n",
       "      <th>COUNT_s1</th>\n",
       "      <th>diff_1</th>\n",
       "      <th>t+1</th>\n",
       "      <th>t</th>\n",
       "    </tr>\n",
       "  </thead>\n",
       "  <tbody>\n",
       "    <tr>\n",
       "      <th>4</th>\n",
       "      <td>2006</td>\n",
       "      <td>1</td>\n",
       "      <td>BROOKLYN</td>\n",
       "      <td>FELONY</td>\n",
       "      <td>GRAND LARCENY</td>\n",
       "      <td>FELONY-GRAND LARCENY</td>\n",
       "      <td>19</td>\n",
       "      <td>1</td>\n",
       "      <td>2006-01-01</td>\n",
       "      <td>NaN</td>\n",
       "      <td>NaN</td>\n",
       "      <td>19</td>\n",
       "      <td>NaN</td>\n",
       "    </tr>\n",
       "    <tr>\n",
       "      <th>29</th>\n",
       "      <td>2006</td>\n",
       "      <td>2</td>\n",
       "      <td>BROOKLYN</td>\n",
       "      <td>FELONY</td>\n",
       "      <td>GRAND LARCENY</td>\n",
       "      <td>FELONY-GRAND LARCENY</td>\n",
       "      <td>12</td>\n",
       "      <td>1</td>\n",
       "      <td>2006-02-01</td>\n",
       "      <td>19.0</td>\n",
       "      <td>-7.0</td>\n",
       "      <td>12</td>\n",
       "      <td>19.0</td>\n",
       "    </tr>\n",
       "    <tr>\n",
       "      <th>55</th>\n",
       "      <td>2006</td>\n",
       "      <td>3</td>\n",
       "      <td>BROOKLYN</td>\n",
       "      <td>FELONY</td>\n",
       "      <td>GRAND LARCENY</td>\n",
       "      <td>FELONY-GRAND LARCENY</td>\n",
       "      <td>17</td>\n",
       "      <td>1</td>\n",
       "      <td>2006-03-01</td>\n",
       "      <td>12.0</td>\n",
       "      <td>5.0</td>\n",
       "      <td>17</td>\n",
       "      <td>12.0</td>\n",
       "    </tr>\n",
       "  </tbody>\n",
       "</table>\n",
       "</div>"
      ],
      "text/plain": [
       "    YEAR  MONTH      BORO CRIME_CAT        OFFENSE              CAT_OFNS  \\\n",
       "4   2006      1  BROOKLYN    FELONY  GRAND LARCENY  FELONY-GRAND LARCENY   \n",
       "29  2006      2  BROOKLYN    FELONY  GRAND LARCENY  FELONY-GRAND LARCENY   \n",
       "55  2006      3  BROOKLYN    FELONY  GRAND LARCENY  FELONY-GRAND LARCENY   \n",
       "\n",
       "    COUNT  DAY       DATE  COUNT_s1  diff_1  t+1     t  \n",
       "4      19    1 2006-01-01       NaN     NaN   19   NaN  \n",
       "29     12    1 2006-02-01      19.0    -7.0   12  19.0  \n",
       "55     17    1 2006-03-01      12.0     5.0   17  12.0  "
      ]
     },
     "execution_count": 15,
     "metadata": {},
     "output_type": "execute_result"
    }
   ],
   "source": [
    "dfM.head(3)"
   ]
  },
  {
   "cell_type": "code",
   "execution_count": 16,
   "metadata": {
    "collapsed": true
   },
   "outputs": [],
   "source": [
    "#holdout set = 2016\n",
    "training = dfM[dfM.YEAR <= 2015].dropna() #first row will be dropped\n",
    "holdout = dfM[dfM.YEAR == 2016].dropna()"
   ]
  },
  {
   "cell_type": "code",
   "execution_count": 17,
   "metadata": {},
   "outputs": [
    {
     "data": {
      "text/plain": [
       "(119, 12)"
      ]
     },
     "execution_count": 17,
     "metadata": {},
     "output_type": "execute_result"
    }
   ],
   "source": [
    "len(training), len(holdout)"
   ]
  },
  {
   "cell_type": "code",
   "execution_count": 18,
   "metadata": {},
   "outputs": [
    {
     "data": {
      "text/html": [
       "<div>\n",
       "<style>\n",
       "    .dataframe thead tr:only-child th {\n",
       "        text-align: right;\n",
       "    }\n",
       "\n",
       "    .dataframe thead th {\n",
       "        text-align: left;\n",
       "    }\n",
       "\n",
       "    .dataframe tbody tr th {\n",
       "        vertical-align: top;\n",
       "    }\n",
       "</style>\n",
       "<table border=\"1\" class=\"dataframe\">\n",
       "  <thead>\n",
       "    <tr style=\"text-align: right;\">\n",
       "      <th></th>\n",
       "      <th>YEAR</th>\n",
       "      <th>MONTH</th>\n",
       "      <th>BORO</th>\n",
       "      <th>CRIME_CAT</th>\n",
       "      <th>OFFENSE</th>\n",
       "      <th>CAT_OFNS</th>\n",
       "      <th>COUNT</th>\n",
       "      <th>DAY</th>\n",
       "      <th>DATE</th>\n",
       "      <th>COUNT_s1</th>\n",
       "      <th>diff_1</th>\n",
       "      <th>t+1</th>\n",
       "      <th>t</th>\n",
       "    </tr>\n",
       "  </thead>\n",
       "  <tbody>\n",
       "    <tr>\n",
       "      <th>2575</th>\n",
       "      <td>2016</td>\n",
       "      <td>1</td>\n",
       "      <td>BROOKLYN</td>\n",
       "      <td>FELONY</td>\n",
       "      <td>GRAND LARCENY</td>\n",
       "      <td>FELONY-GRAND LARCENY</td>\n",
       "      <td>8</td>\n",
       "      <td>1</td>\n",
       "      <td>2016-01-01</td>\n",
       "      <td>12.0</td>\n",
       "      <td>-4.0</td>\n",
       "      <td>8</td>\n",
       "      <td>12.0</td>\n",
       "    </tr>\n",
       "  </tbody>\n",
       "</table>\n",
       "</div>"
      ],
      "text/plain": [
       "      YEAR  MONTH      BORO CRIME_CAT        OFFENSE              CAT_OFNS  \\\n",
       "2575  2016      1  BROOKLYN    FELONY  GRAND LARCENY  FELONY-GRAND LARCENY   \n",
       "\n",
       "      COUNT  DAY       DATE  COUNT_s1  diff_1  t+1     t  \n",
       "2575      8    1 2016-01-01      12.0    -4.0    8  12.0  "
      ]
     },
     "execution_count": 18,
     "metadata": {},
     "output_type": "execute_result"
    }
   ],
   "source": [
    "holdout.head(1)"
   ]
  },
  {
   "cell_type": "markdown",
   "metadata": {},
   "source": [
    "# Evaluate the Baseline Model"
   ]
  },
  {
   "cell_type": "code",
   "execution_count": 19,
   "metadata": {
    "collapsed": true
   },
   "outputs": [],
   "source": [
    "#plot model vs. actual\n",
    "def plot_model_results(train,test,actual_col,model_col,model_name):\n",
    "    plt.figure() #set up new plot\n",
    "    #Plot model vs actual\n",
    "    plt.plot_date(train.DATE,train[actual_col],fmt='Y',color='steelblue')\n",
    "    plt.plot_date(test.DATE,test[model_col], '--', color = 'red')\n",
    "    plt.plot_date(test.DATE,test[actual_col],color='green',fmt='Y')\n",
    "    plt.gca().xaxis.set_major_locator(mdates.YearLocator())\n",
    "    plt.xticks(rotation=45) \n",
    "    plt.title(model_name + ' Model vs Actual')"
   ]
  },
  {
   "cell_type": "code",
   "execution_count": 20,
   "metadata": {},
   "outputs": [
    {
     "data": {
      "image/png": "[encoded data removed]",
      "text/plain": [
       "<matplotlib.figure.Figure at 0xfc21644ac8>"
      ]
     },
     "metadata": {},
     "output_type": "display_data"
    }
   ],
   "source": [
    "plot_model_results(training,holdout,'t+1','t','Baseline')"
   ]
  },
  {
   "cell_type": "code",
   "execution_count": 21,
   "metadata": {
    "collapsed": true
   },
   "outputs": [],
   "source": [
    "#Calculate Forecast Error, Mean Forecast Error (Forecast Bias), \n",
    "#MAE (mean abs error), MAPE (mean absolute perecent error), \n",
    "#MSE (mean sq error), RMSE (root MSE) on the test set\n",
    "def model_eval(train,test,actual_col,model_col,model_name):\n",
    "    FE = test[actual_col] - test[model_col] #forecast error (series)\n",
    "    FB = np.mean(FE)  #forecast bias: can be pos or neg, ideal is 0\n",
    "    MAE = mean_absolute_error(test[actual_col],test[model_col]) #0 indicates no error\n",
    "    #MAPE = sum(abs(FE)/abs(test[actual_col]))/len(test[actual_col])*100\n",
    "    MSE = mean_squared_error(test[actual_col],test[model_col]) #0 indicates no error\n",
    "    RMSE = MSE ** 0.5 #same units as prediction\n",
    "    print('Performance Measures: '+model_name + ' Model')\n",
    "    print('Forecast Bias = {:.2f}, MAE = {:.2f}, MSE = {:.2f}, RMSE = {:.2f}'.format(FB,MAE,MSE,RMSE))\n"
   ]
  },
  {
   "cell_type": "code",
   "execution_count": 22,
   "metadata": {},
   "outputs": [
    {
     "name": "stdout",
     "output_type": "stream",
     "text": [
      "Performance Measures: Baseline Model\n",
      "Forecast Bias = -0.58, MAE = 2.92, MSE = 12.42, RMSE = 3.52\n"
     ]
    }
   ],
   "source": [
    "model_eval(training,holdout,'t+1','t','Baseline')"
   ]
  },
  {
   "cell_type": "markdown",
   "metadata": {},
   "source": [
    "# Creat a simple regression model\n",
    "Create a simple regression model with \"t+1\" as the target (y) and \"t\" as the feature (X)"
   ]
  },
  {
   "cell_type": "markdown",
   "metadata": {},
   "source": [
    "**Identify features and target **"
   ]
  },
  {
   "cell_type": "code",
   "execution_count": 23,
   "metadata": {
    "collapsed": true
   },
   "outputs": [],
   "source": [
    "#Identify features and target\n",
    "training_X = training[['t']]\n",
    "training_y = training[['t+1']]\n",
    "\n",
    "holdout_X = holdout[['t']]\n",
    "holdout_y = holdout[['t+1']]"
   ]
  },
  {
   "cell_type": "code",
   "execution_count": 24,
   "metadata": {},
   "outputs": [
    {
     "name": "stdout",
     "output_type": "stream",
     "text": [
      "119 12\n"
     ]
    }
   ],
   "source": [
    "#number of observations in each set\n",
    "n_training = len(training_X)\n",
    "n_holdout = len(holdout_X)\n",
    "print(n_training,n_holdout)"
   ]
  },
  {
   "cell_type": "markdown",
   "metadata": {},
   "source": [
    "**Scale the features **"
   ]
  },
  {
   "cell_type": "code",
   "execution_count": 25,
   "metadata": {
    "collapsed": true
   },
   "outputs": [],
   "source": [
    "#use the training set to create a standard scaler for validation \n",
    "#and test sets, finds the mean and standard deviation of the train set\n",
    "scaler_M7 = StandardScaler().fit(training_X)"
   ]
  },
  {
   "cell_type": "code",
   "execution_count": 26,
   "metadata": {},
   "outputs": [
    {
     "data": {
      "text/plain": [
       "(119, 12)"
      ]
     },
     "execution_count": 26,
     "metadata": {},
     "output_type": "execute_result"
    }
   ],
   "source": [
    "#transform the features for all sets using the scaler created from the \n",
    "#train set, this will subtract the mean to center the data and \n",
    "#divide by the standard deviation to scale it\n",
    "training_X_scaled = scaler_M7.transform(training_X)\n",
    "holdout_X_scaled = scaler_M7.transform(holdout_X)\n",
    "len(training_X_scaled),len(holdout_X_scaled)"
   ]
  },
  {
   "cell_type": "markdown",
   "metadata": {},
   "source": [
    "** Implement Linear Regression **"
   ]
  },
  {
   "cell_type": "code",
   "execution_count": 27,
   "metadata": {
    "collapsed": true
   },
   "outputs": [],
   "source": [
    "#create a linear regression model\n",
    "regr_M7 = linear_model.LinearRegression(fit_intercept=True, normalize=False, copy_X=True, n_jobs=1)"
   ]
  },
  {
   "cell_type": "markdown",
   "metadata": {},
   "source": [
    "** Evaluate the model by varying window size **  \n",
    "Evaluate how much data should the model be trained on."
   ]
  },
  {
   "cell_type": "code",
   "execution_count": 30,
   "metadata": {
    "collapsed": true
   },
   "outputs": [],
   "source": [
    "#get the RMSE (for predicted residuals) for a specified training set size\n",
    "#using a sliding window to predict a test size of 1\n",
    "#Walk forward validation\n",
    "def ts_kfold(min_train,max_train,model):  #test size is 1 (n_training-1)\n",
    "    test_pred_list = [] #store the test predictions of each ts-kfold\n",
    "    splits = TimeSeriesSplit(n_splits=n_training-1,\n",
    "                             max_train_size = max_train)\n",
    "    for train_index, test_index in splits.split(training_X):\n",
    "        if len(train_index) >= min_train:\n",
    "            #print(train_index, test_index)\n",
    "            train_set_X = training_X_scaled[train_index]\n",
    "            train_set_y = training_y.values[train_index]\n",
    "            test_set_X = training_X_scaled[test_index]\n",
    "            test_set_y = training_y.values[test_index]\n",
    "            \n",
    "            #fit the regression model on the train set\n",
    "            model.fit(train_set_X, train_set_y)\n",
    "            \n",
    "            #predict the target values of the test set\n",
    "            test_pred = model.predict(test_set_X)\n",
    "            \n",
    "            #add the prediction to the list\n",
    "            test_pred_list.append(test_pred[0])\n",
    "            \n",
    "    #Calculate RMSE on the validation set\n",
    "    RMSE = mean_squared_error(test_pred_list,training_y[min_train:]) ** 0.5\n",
    "\n",
    "    return(RMSE)"
   ]
  },
  {
   "cell_type": "code",
   "execution_count": 35,
   "metadata": {
    "collapsed": true
   },
   "outputs": [],
   "source": [
    "#get the MSE for windows in multiples of 3 from 3 to the size of the training set\n",
    "#calculate RMSE for each and plot\n",
    "RMSE_list = []\n",
    "W =[i for i in range(n_training)[3::3]]\n",
    "#print(W)\n",
    "\n",
    "for w in W:\n",
    "    RMSE_w = ts_kfold(w,w,regr_M7)\n",
    "    RMSE_list.append(RMSE_w)"
   ]
  },
  {
   "cell_type": "code",
   "execution_count": 38,
   "metadata": {},
   "outputs": [
    {
     "data": {
      "text/plain": [
       "[8.52651070250643,\n",
       " 4.8704344745177526,\n",
       " 4.4476025993885173,\n",
       " 4.1407225211545837,\n",
       " 3.8738273310756366,\n",
       " 3.947864111555393,\n",
       " 4.019925786500111,\n",
       " 3.9540282621783267,\n",
       " 3.8957958015400482,\n",
       " 3.9456704421977427]"
      ]
     },
     "execution_count": 38,
     "metadata": {},
     "output_type": "execute_result"
    }
   ],
   "source": [
    "RMSE_list[:10]"
   ]
  },
  {
   "cell_type": "code",
   "execution_count": 33,
   "metadata": {},
   "outputs": [
    {
     "data": {
      "text/plain": [
       "Text(0.5,1,'RMSE by window')"
      ]
     },
     "execution_count": 33,
     "metadata": {},
     "output_type": "execute_result"
    },
    {
     "data": {
      "image/png": "[encoded data removed]",
      "text/plain": [
       "<matplotlib.figure.Figure at 0xfc21ef8390>"
      ]
     },
     "metadata": {},
     "output_type": "display_data"
    }
   ],
   "source": [
    "#plot the predicted MSE from the walk forward validation\n",
    "plt.plot(W,RMSE_list)\n",
    "plt.xticks(np.arange(min(W),max(W)+1,6.0))\n",
    "plt.ylabel('RMSE')\n",
    "plt.xlabel('Window (months)')\n",
    "plt.title('RMSE by window')"
   ]
  },
  {
   "cell_type": "markdown",
   "metadata": {},
   "source": [
    "Minimum RMSE is at window = 15 months\n",
    "  \n",
    "There are lower values at the end but those are a result of very few cross validations because larger window sizes don't allow for many training sets of that size."
   ]
  },
  {
   "cell_type": "markdown",
   "metadata": {},
   "source": [
    "** Get the RMSE for the Walk Forward Validation for the regression model with a window of 15 **"
   ]
  },
  {
   "cell_type": "code",
   "execution_count": 45,
   "metadata": {},
   "outputs": [
    {
     "data": {
      "text/plain": [
       "3.8738273310756366"
      ]
     },
     "execution_count": 45,
     "metadata": {},
     "output_type": "execute_result"
    }
   ],
   "source": [
    "#Walk Forward Validation RMSE when the window is 15\n",
    "#(similar to leave one out cross-validation, but for time series)\n",
    "#provides insight into how well the model would perform on unseen data\n",
    "RMSE_list[W.index(15)]"
   ]
  },
  {
   "cell_type": "markdown",
   "metadata": {},
   "source": [
    "** Using a window of 15 months and fitting a linear regression with one feature (number of crimes in the previous time period), the model can be retrained as new data becomes available **"
   ]
  },
  {
   "cell_type": "markdown",
   "metadata": {},
   "source": [
    "** Get the RMSE for 2016 to compare to the baseline model **"
   ]
  },
  {
   "cell_type": "code",
   "execution_count": 40,
   "metadata": {
    "collapsed": true
   },
   "outputs": [],
   "source": [
    "#generate model with window = 12, feature = prior month, predict next month\n",
    "\n",
    "def ts_walk_forward(X,y,min_train,max_train,model):  #test size is 1 (n_training-1)\n",
    "    test_pred_list = [] #store the test predictions of each ts-step\n",
    "    splits = TimeSeriesSplit(n_splits=len(X)-1,\n",
    "                             max_train_size = max_train)\n",
    "    for train_index, test_index in splits.split(X):\n",
    "        if len(train_index) >= min_train:\n",
    "            #print(train_index, test_index)        \n",
    "            train_set_X = X[train_index]\n",
    "            train_set_y = y[train_index]\n",
    "            test_set_X = X[test_index]\n",
    "            test_set_y = y[test_index]\n",
    "            \n",
    "            #fit the regression model on the train set\n",
    "            model.fit(train_set_X, train_set_y)\n",
    "            \n",
    "            #predict the target values of the test set\n",
    "            test_pred = model.predict(test_set_X)\n",
    "            \n",
    "            #add the prediction to the list\n",
    "            test_pred_list.append(test_pred[0])\n",
    "            \n",
    "    #Calculate RMSE on the validation set\n",
    "    RMSE = mean_squared_error(test_pred_list,y[min_train:]) ** 0.5\n",
    "\n",
    "    return(RMSE,test_pred_list,y[min_train:])"
   ]
  },
  {
   "cell_type": "code",
   "execution_count": 55,
   "metadata": {
    "collapsed": true
   },
   "outputs": [],
   "source": [
    "#get 2015 and 2016 and predict 2016\n",
    "X_15_16 = np.concatenate((training_X_scaled[-15:],holdout_X_scaled),axis=0)\n",
    "y_15_16 = np.concatenate((training_y[-15:],holdout_y),axis=0)"
   ]
  },
  {
   "cell_type": "code",
   "execution_count": 56,
   "metadata": {},
   "outputs": [
    {
     "data": {
      "text/plain": [
       "(27, 27)"
      ]
     },
     "execution_count": 56,
     "metadata": {},
     "output_type": "execute_result"
    }
   ],
   "source": [
    "len(X_15_16),len(y_15_16)"
   ]
  },
  {
   "cell_type": "code",
   "execution_count": 63,
   "metadata": {
    "collapsed": true
   },
   "outputs": [],
   "source": [
    "#run model\n",
    "M7_2016_RMSE,M7_pred_2016,M7_actual_2016 = ts_walk_forward(\n",
    "    X_15_16,y_15_16,15,15,regr_M7)"
   ]
  },
  {
   "cell_type": "code",
   "execution_count": 64,
   "metadata": {},
   "outputs": [
    {
     "data": {
      "text/plain": [
       "3.2792986148714456"
      ]
     },
     "execution_count": 64,
     "metadata": {},
     "output_type": "execute_result"
    }
   ],
   "source": [
    "M7_2016_RMSE"
   ]
  },
  {
   "cell_type": "markdown",
   "metadata": {},
   "source": [
    "** For the 2016 prediction, the M1 RMSE is 3.28 which is lower than the Baseline model RMSE of 3.52 **"
   ]
  },
  {
   "cell_type": "code",
   "execution_count": 65,
   "metadata": {},
   "outputs": [],
   "source": [
    "df_M7_2016 = pd.DataFrame({'DATE':dfM.DATE[-12:],'ACTUAL':[i[0] for i in M7_actual_2016],\n",
    "                      'M7':[i[0] for i in M7_pred_2016],\n",
    "                     'BASELINE':dfM.t[-12:]})\n"
   ]
  },
  {
   "cell_type": "code",
   "execution_count": 66,
   "metadata": {},
   "outputs": [
    {
     "data": {
      "text/html": [
       "<div>\n",
       "<style>\n",
       "    .dataframe thead tr:only-child th {\n",
       "        text-align: right;\n",
       "    }\n",
       "\n",
       "    .dataframe thead th {\n",
       "        text-align: left;\n",
       "    }\n",
       "\n",
       "    .dataframe tbody tr th {\n",
       "        vertical-align: top;\n",
       "    }\n",
       "</style>\n",
       "<table border=\"1\" class=\"dataframe\">\n",
       "  <thead>\n",
       "    <tr style=\"text-align: right;\">\n",
       "      <th></th>\n",
       "      <th>ACTUAL</th>\n",
       "      <th>BASELINE</th>\n",
       "      <th>DATE</th>\n",
       "      <th>M7</th>\n",
       "    </tr>\n",
       "  </thead>\n",
       "  <tbody>\n",
       "    <tr>\n",
       "      <th>2575</th>\n",
       "      <td>8</td>\n",
       "      <td>12.0</td>\n",
       "      <td>2016-01-01</td>\n",
       "      <td>11.310231</td>\n",
       "    </tr>\n",
       "    <tr>\n",
       "      <th>2593</th>\n",
       "      <td>11</td>\n",
       "      <td>8.0</td>\n",
       "      <td>2016-02-01</td>\n",
       "      <td>9.356781</td>\n",
       "    </tr>\n",
       "    <tr>\n",
       "      <th>2614</th>\n",
       "      <td>7</td>\n",
       "      <td>11.0</td>\n",
       "      <td>2016-03-01</td>\n",
       "      <td>10.186939</td>\n",
       "    </tr>\n",
       "    <tr>\n",
       "      <th>2638</th>\n",
       "      <td>15</td>\n",
       "      <td>7.0</td>\n",
       "      <td>2016-04-01</td>\n",
       "      <td>8.551601</td>\n",
       "    </tr>\n",
       "    <tr>\n",
       "      <th>2657</th>\n",
       "      <td>12</td>\n",
       "      <td>15.0</td>\n",
       "      <td>2016-05-01</td>\n",
       "      <td>11.416401</td>\n",
       "    </tr>\n",
       "    <tr>\n",
       "      <th>2675</th>\n",
       "      <td>10</td>\n",
       "      <td>12.0</td>\n",
       "      <td>2016-06-01</td>\n",
       "      <td>10.922581</td>\n",
       "    </tr>\n",
       "    <tr>\n",
       "      <th>2696</th>\n",
       "      <td>8</td>\n",
       "      <td>10.0</td>\n",
       "      <td>2016-07-01</td>\n",
       "      <td>10.576305</td>\n",
       "    </tr>\n",
       "    <tr>\n",
       "      <th>2719</th>\n",
       "      <td>8</td>\n",
       "      <td>8.0</td>\n",
       "      <td>2016-08-01</td>\n",
       "      <td>10.441096</td>\n",
       "    </tr>\n",
       "    <tr>\n",
       "      <th>2741</th>\n",
       "      <td>11</td>\n",
       "      <td>8.0</td>\n",
       "      <td>2016-09-01</td>\n",
       "      <td>10.494868</td>\n",
       "    </tr>\n",
       "    <tr>\n",
       "      <th>2764</th>\n",
       "      <td>10</td>\n",
       "      <td>11.0</td>\n",
       "      <td>2016-10-01</td>\n",
       "      <td>10.873900</td>\n",
       "    </tr>\n",
       "    <tr>\n",
       "      <th>2783</th>\n",
       "      <td>6</td>\n",
       "      <td>10.0</td>\n",
       "      <td>2016-11-01</td>\n",
       "      <td>10.859422</td>\n",
       "    </tr>\n",
       "    <tr>\n",
       "      <th>2800</th>\n",
       "      <td>5</td>\n",
       "      <td>6.0</td>\n",
       "      <td>2016-12-01</td>\n",
       "      <td>10.022796</td>\n",
       "    </tr>\n",
       "  </tbody>\n",
       "</table>\n",
       "</div>"
      ],
      "text/plain": [
       "      ACTUAL  BASELINE       DATE         M7\n",
       "2575       8      12.0 2016-01-01  11.310231\n",
       "2593      11       8.0 2016-02-01   9.356781\n",
       "2614       7      11.0 2016-03-01  10.186939\n",
       "2638      15       7.0 2016-04-01   8.551601\n",
       "2657      12      15.0 2016-05-01  11.416401\n",
       "2675      10      12.0 2016-06-01  10.922581\n",
       "2696       8      10.0 2016-07-01  10.576305\n",
       "2719       8       8.0 2016-08-01  10.441096\n",
       "2741      11       8.0 2016-09-01  10.494868\n",
       "2764      10      11.0 2016-10-01  10.873900\n",
       "2783       6      10.0 2016-11-01  10.859422\n",
       "2800       5       6.0 2016-12-01  10.022796"
      ]
     },
     "execution_count": 66,
     "metadata": {},
     "output_type": "execute_result"
    }
   ],
   "source": [
    "df_M7_2016"
   ]
  },
  {
   "cell_type": "code",
   "execution_count": 67,
   "metadata": {},
   "outputs": [
    {
     "data": {
      "text/plain": [
       "<matplotlib.legend.Legend at 0xfc21880a90>"
      ]
     },
     "execution_count": 67,
     "metadata": {},
     "output_type": "execute_result"
    },
    {
     "data": {
      "image/png": "[encoded data removed]",
      "text/plain": [
       "<matplotlib.figure.Figure at 0xfc217bd7f0>"
      ]
     },
     "metadata": {},
     "output_type": "display_data"
    }
   ],
   "source": [
    "#Plot model results\n",
    "plt.plot(df_M7_2016.DATE,df_M7_2016.ACTUAL,color = 'steelblue')\n",
    "plt.plot(df_M7_2016.DATE,df_M7_2016.BASELINE,'--',color='steelblue')\n",
    "plt.plot(df_M7_2016.DATE,df_M7_2016.M7, '--', color = 'red')\n",
    "plt.title('M7 Model vs Actual and Baseline (2016)')\n",
    "axes = plt.gca()\n",
    "axes.set_ylim([0,20])\n",
    "plt.legend()"
   ]
  },
  {
   "cell_type": "code",
   "execution_count": 73,
   "metadata": {
    "collapsed": true
   },
   "outputs": [],
   "source": [
    "#run model on the training set to produce the backtest\n",
    "M7_RMSE,M7_pred,M7_actual = ts_walk_forward(training_X_scaled,training_y.values,15,15,regr_M7)"
   ]
  },
  {
   "cell_type": "code",
   "execution_count": 83,
   "metadata": {},
   "outputs": [
    {
     "data": {
      "text/plain": [
       "(104, 104, 104)"
      ]
     },
     "execution_count": 83,
     "metadata": {},
     "output_type": "execute_result"
    }
   ],
   "source": [
    "len(M7_pred),len(M7_actual),len(dfM.DATE[16:-12])"
   ]
  },
  {
   "cell_type": "code",
   "execution_count": 89,
   "metadata": {},
   "outputs": [],
   "source": [
    "Baseline_training_RMSE = mean_squared_error(df_M7.ACTUAL,df_M7.BASELINE) ** 0.5"
   ]
  },
  {
   "cell_type": "code",
   "execution_count": 93,
   "metadata": {},
   "outputs": [
    {
     "name": "stdout",
     "output_type": "stream",
     "text": [
      "Baseline RMSE:  4.81084512006\n",
      "      M7_RMSE:  3.87382733108\n"
     ]
    }
   ],
   "source": [
    "'Backtest on training set: 2006 - 2015'\n",
    "print('Baseline RMSE: ',Baseline_training_RMSE)\n",
    "print('      M7_RMSE: ',M7_RMSE)"
   ]
  },
  {
   "cell_type": "code",
   "execution_count": 77,
   "metadata": {},
   "outputs": [],
   "source": [
    "df_M7 = pd.DataFrame({'DATE':dfM.DATE[16:-12],'ACTUAL':[i[0] for i in M7_actual],\n",
    "                      'M7':[i[0] for i in M7_pred],\n",
    "                     'BASELINE':dfM.t[16:-12]})"
   ]
  },
  {
   "cell_type": "code",
   "execution_count": 82,
   "metadata": {},
   "outputs": [
    {
     "data": {
      "text/plain": [
       "<matplotlib.legend.Legend at 0xfc22457ef0>"
      ]
     },
     "execution_count": 82,
     "metadata": {},
     "output_type": "execute_result"
    },
    {
     "data": {
      "image/png": "[encoded data removed]",
      "text/plain": [
       "<matplotlib.figure.Figure at 0xfc223ae4e0>"
      ]
     },
     "metadata": {},
     "output_type": "display_data"
    }
   ],
   "source": [
    "#Plot model results\n",
    "plt.plot(df_M7.DATE,df_M7.ACTUAL,color = 'steelblue')\n",
    "#plt.plot(df_M7.DATE,df_M7.BASELINE,'--',color='steelblue')\n",
    "plt.plot(df_M7.DATE,df_M7.M7, '--', color = 'red')\n",
    "plt.title('M7 Model vs Actual - Backtest')\n",
    "axes = plt.gca()\n",
    "axes.set_ylim([0,20])\n",
    "plt.legend()"
   ]
  },
  {
   "cell_type": "markdown",
   "metadata": {},
   "source": [
    "# Notes on model\n",
    "1 - The model prediction isn't an integer and there cannot be partial crimes, so either integer programming is needed or results can be rounded to simplify    \n",
    "2 - the spikes are generally not due to seasonality, it is possible there are features outside the data set that could better predict these.  "
   ]
  },
  {
   "cell_type": "markdown",
   "metadata": {
    "collapsed": true
   },
   "source": [
    "# Three Month Prediction\n",
    "Use the model output for one month as input to the prediction 2 months out, and then again for three months out"
   ]
  },
  {
   "cell_type": "code",
   "execution_count": null,
   "metadata": {
    "collapsed": true
   },
   "outputs": [],
   "source": []
  }
 ],
 "metadata": {
  "kernelspec": {
   "display_name": "Python 3",
   "language": "python",
   "name": "python3"
  },
  "language_info": {
   "codemirror_mode": {
    "name": "ipython",
    "version": 3
   },
   "file_extension": ".py",
   "mimetype": "text/x-python",
   "name": "python",
   "nbconvert_exporter": "python",
   "pygments_lexer": "ipython3",
   "version": "3.6.3"
  }
 },
 "nbformat": 4,
 "nbformat_minor": 2
}
