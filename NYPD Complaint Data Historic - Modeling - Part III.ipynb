{
 "cells": [
  {
   "cell_type": "code",
   "execution_count": 1,
   "metadata": {
    "collapsed": true
   },
   "outputs": [],
   "source": [
    "%matplotlib inline"
   ]
  },
  {
   "cell_type": "code",
   "execution_count": 2,
   "metadata": {},
   "outputs": [
    {
     "name": "stderr",
     "output_type": "stream",
     "text": [
      "C:\\Anaconda3\\lib\\site-packages\\statsmodels\\compat\\pandas.py:56: FutureWarning: The pandas.core.datetools module is deprecated and will be removed in a future version. Please use the pandas.tseries module instead.\n",
      "  from pandas.core import datetools\n"
     ]
    }
   ],
   "source": [
    "import numpy as np\n",
    "import pandas as pd\n",
    "import datetime\n",
    "\n",
    "import matplotlib.pyplot as plt\n",
    "import matplotlib.dates as mdates\n",
    "import seaborn as sns\n",
    "\n",
    "#import geopandas as gpd\n",
    "#from shapely import geometry\n",
    "#from geopandas import GeoSeries, GeoDataFrame\n",
    "\n",
    "from pandas.plotting import lag_plot\n",
    "from pandas.plotting import autocorrelation_plot\n",
    "import statsmodels.api as sm\n",
    "\n",
    "from textwrap import wrap\n",
    "\n",
    "from sklearn.metrics import mean_squared_error\n",
    "from sklearn.metrics import mean_absolute_error\n",
    "\n",
    "from sklearn.preprocessing import scale, StandardScaler\n",
    "from sklearn import linear_model\n",
    "from sklearn.linear_model import Ridge\n",
    "from sklearn.linear_model import Lasso\n",
    "\n",
    "from sklearn.model_selection import TimeSeriesSplit"
   ]
  },
  {
   "cell_type": "markdown",
   "metadata": {},
   "source": [
    "# Import Data"
   ]
  },
  {
   "cell_type": "code",
   "execution_count": 3,
   "metadata": {
    "collapsed": true
   },
   "outputs": [],
   "source": [
    "#read data in from pickle file\n",
    "df = pd.read_pickle('C:/Users/Stacey/Downloads/NY_complaint_data_for_model.pkl')"
   ]
  },
  {
   "cell_type": "code",
   "execution_count": 4,
   "metadata": {},
   "outputs": [
    {
     "data": {
      "text/plain": [
       "(132, 9)"
      ]
     },
     "execution_count": 4,
     "metadata": {},
     "output_type": "execute_result"
    }
   ],
   "source": [
    "df.shape"
   ]
  },
  {
   "cell_type": "code",
   "execution_count": 5,
   "metadata": {},
   "outputs": [
    {
     "data": {
      "text/html": [
       "<div>\n",
       "<style>\n",
       "    .dataframe thead tr:only-child th {\n",
       "        text-align: right;\n",
       "    }\n",
       "\n",
       "    .dataframe thead th {\n",
       "        text-align: left;\n",
       "    }\n",
       "\n",
       "    .dataframe tbody tr th {\n",
       "        vertical-align: top;\n",
       "    }\n",
       "</style>\n",
       "<table border=\"1\" class=\"dataframe\">\n",
       "  <thead>\n",
       "    <tr style=\"text-align: right;\">\n",
       "      <th></th>\n",
       "      <th>CMPLNT_FR_DATE_YEAR</th>\n",
       "      <th>CMPLNT_FR_DATE_MONTH</th>\n",
       "      <th>BORO</th>\n",
       "      <th>BORO_PREC</th>\n",
       "      <th>PRECINCT</th>\n",
       "      <th>LAW_CAT_CD</th>\n",
       "      <th>OFNS_DESC</th>\n",
       "      <th>CAT_OFNS</th>\n",
       "      <th>CMPLNT_NUM_count</th>\n",
       "    </tr>\n",
       "  </thead>\n",
       "  <tbody>\n",
       "    <tr>\n",
       "      <th>6</th>\n",
       "      <td>2006</td>\n",
       "      <td>1</td>\n",
       "      <td>BROOKLYN</td>\n",
       "      <td>BROOKLYN-75</td>\n",
       "      <td>75</td>\n",
       "      <td>FELONY</td>\n",
       "      <td>GRAND LARCENY</td>\n",
       "      <td>FELONY-GRAND LARCENY</td>\n",
       "      <td>5</td>\n",
       "    </tr>\n",
       "  </tbody>\n",
       "</table>\n",
       "</div>"
      ],
      "text/plain": [
       "   CMPLNT_FR_DATE_YEAR  CMPLNT_FR_DATE_MONTH      BORO    BORO_PREC  PRECINCT  \\\n",
       "6                 2006                     1  BROOKLYN  BROOKLYN-75        75   \n",
       "\n",
       "  LAW_CAT_CD      OFNS_DESC              CAT_OFNS  CMPLNT_NUM_count  \n",
       "6     FELONY  GRAND LARCENY  FELONY-GRAND LARCENY                 5  "
      ]
     },
     "execution_count": 5,
     "metadata": {},
     "output_type": "execute_result"
    }
   ],
   "source": [
    "df.head(1)"
   ]
  },
  {
   "cell_type": "markdown",
   "metadata": {},
   "source": [
    "# Model crime incidence with basic Time Series\n",
    "P = centroid of precinct 75 (the highest crime precinct in the city)  \n",
    "R = 0.5 miles (2640 feet)  \n",
    "O = Grand Larceny (felony with the highest incidence in all boroughs)  \n",
    "\n",
    "Notes: points in lower crime precincts as well as lower incidence crime types will likely require a larger radius to model as there won't be as many crimes within a half mile radius.  "
   ]
  },
  {
   "cell_type": "code",
   "execution_count": 6,
   "metadata": {
    "collapsed": true
   },
   "outputs": [],
   "source": [
    "#rename columns\n",
    "df.rename(columns={'CMPLNT_FR_DATE_YEAR':'YEAR',\n",
    " 'CMPLNT_FR_DATE_MONTH':'MONTH',\n",
    " 'LAW_CAT_CD':'CRIME_CAT',\n",
    " 'OFNS_DESC':'OFFENSE',\n",
    " 'CMPLNT_NUM_count':'COUNT'}, inplace = True)"
   ]
  },
  {
   "cell_type": "code",
   "execution_count": 7,
   "metadata": {},
   "outputs": [
    {
     "data": {
      "text/html": [
       "<div>\n",
       "<style>\n",
       "    .dataframe thead tr:only-child th {\n",
       "        text-align: right;\n",
       "    }\n",
       "\n",
       "    .dataframe thead th {\n",
       "        text-align: left;\n",
       "    }\n",
       "\n",
       "    .dataframe tbody tr th {\n",
       "        vertical-align: top;\n",
       "    }\n",
       "</style>\n",
       "<table border=\"1\" class=\"dataframe\">\n",
       "  <thead>\n",
       "    <tr style=\"text-align: right;\">\n",
       "      <th></th>\n",
       "      <th>YEAR</th>\n",
       "      <th>MONTH</th>\n",
       "      <th>BORO</th>\n",
       "      <th>BORO_PREC</th>\n",
       "      <th>PRECINCT</th>\n",
       "      <th>CRIME_CAT</th>\n",
       "      <th>OFFENSE</th>\n",
       "      <th>CAT_OFNS</th>\n",
       "      <th>COUNT</th>\n",
       "    </tr>\n",
       "  </thead>\n",
       "  <tbody>\n",
       "    <tr>\n",
       "      <th>6</th>\n",
       "      <td>2006</td>\n",
       "      <td>1</td>\n",
       "      <td>BROOKLYN</td>\n",
       "      <td>BROOKLYN-75</td>\n",
       "      <td>75</td>\n",
       "      <td>FELONY</td>\n",
       "      <td>GRAND LARCENY</td>\n",
       "      <td>FELONY-GRAND LARCENY</td>\n",
       "      <td>5</td>\n",
       "    </tr>\n",
       "  </tbody>\n",
       "</table>\n",
       "</div>"
      ],
      "text/plain": [
       "   YEAR  MONTH      BORO    BORO_PREC  PRECINCT CRIME_CAT        OFFENSE  \\\n",
       "6  2006      1  BROOKLYN  BROOKLYN-75        75    FELONY  GRAND LARCENY   \n",
       "\n",
       "               CAT_OFNS  COUNT  \n",
       "6  FELONY-GRAND LARCENY      5  "
      ]
     },
     "execution_count": 7,
     "metadata": {},
     "output_type": "execute_result"
    }
   ],
   "source": [
    "df.head(1)"
   ]
  },
  {
   "cell_type": "markdown",
   "metadata": {},
   "source": [
    "** Set up as a time series **"
   ]
  },
  {
   "cell_type": "code",
   "execution_count": 8,
   "metadata": {
    "collapsed": true
   },
   "outputs": [],
   "source": [
    "#create a date (set date for each month as 1st of the month)\n",
    "df['DAY'] = 1 \n",
    "df['DATE'] = pd.to_datetime(df[['YEAR','MONTH','DAY']])"
   ]
  },
  {
   "cell_type": "code",
   "execution_count": 9,
   "metadata": {
    "collapsed": true
   },
   "outputs": [],
   "source": [
    "#order by date\n",
    "df = df.sort_values('DATE')"
   ]
  },
  {
   "cell_type": "code",
   "execution_count": 10,
   "metadata": {},
   "outputs": [
    {
     "data": {
      "text/html": [
       "<div>\n",
       "<style>\n",
       "    .dataframe thead tr:only-child th {\n",
       "        text-align: right;\n",
       "    }\n",
       "\n",
       "    .dataframe thead th {\n",
       "        text-align: left;\n",
       "    }\n",
       "\n",
       "    .dataframe tbody tr th {\n",
       "        vertical-align: top;\n",
       "    }\n",
       "</style>\n",
       "<table border=\"1\" class=\"dataframe\">\n",
       "  <thead>\n",
       "    <tr style=\"text-align: right;\">\n",
       "      <th></th>\n",
       "      <th>YEAR</th>\n",
       "      <th>MONTH</th>\n",
       "      <th>BORO</th>\n",
       "      <th>BORO_PREC</th>\n",
       "      <th>PRECINCT</th>\n",
       "      <th>CRIME_CAT</th>\n",
       "      <th>OFFENSE</th>\n",
       "      <th>CAT_OFNS</th>\n",
       "      <th>COUNT</th>\n",
       "      <th>DAY</th>\n",
       "      <th>DATE</th>\n",
       "    </tr>\n",
       "  </thead>\n",
       "  <tbody>\n",
       "    <tr>\n",
       "      <th>6</th>\n",
       "      <td>2006</td>\n",
       "      <td>1</td>\n",
       "      <td>BROOKLYN</td>\n",
       "      <td>BROOKLYN-75</td>\n",
       "      <td>75</td>\n",
       "      <td>FELONY</td>\n",
       "      <td>GRAND LARCENY</td>\n",
       "      <td>FELONY-GRAND LARCENY</td>\n",
       "      <td>5</td>\n",
       "      <td>1</td>\n",
       "      <td>2006-01-01</td>\n",
       "    </tr>\n",
       "    <tr>\n",
       "      <th>32</th>\n",
       "      <td>2006</td>\n",
       "      <td>2</td>\n",
       "      <td>BROOKLYN</td>\n",
       "      <td>BROOKLYN-75</td>\n",
       "      <td>75</td>\n",
       "      <td>FELONY</td>\n",
       "      <td>GRAND LARCENY</td>\n",
       "      <td>FELONY-GRAND LARCENY</td>\n",
       "      <td>5</td>\n",
       "      <td>1</td>\n",
       "      <td>2006-02-01</td>\n",
       "    </tr>\n",
       "    <tr>\n",
       "      <th>53</th>\n",
       "      <td>2006</td>\n",
       "      <td>3</td>\n",
       "      <td>BROOKLYN</td>\n",
       "      <td>BROOKLYN-75</td>\n",
       "      <td>75</td>\n",
       "      <td>FELONY</td>\n",
       "      <td>GRAND LARCENY</td>\n",
       "      <td>FELONY-GRAND LARCENY</td>\n",
       "      <td>10</td>\n",
       "      <td>1</td>\n",
       "      <td>2006-03-01</td>\n",
       "    </tr>\n",
       "    <tr>\n",
       "      <th>75</th>\n",
       "      <td>2006</td>\n",
       "      <td>4</td>\n",
       "      <td>BROOKLYN</td>\n",
       "      <td>BROOKLYN-75</td>\n",
       "      <td>75</td>\n",
       "      <td>FELONY</td>\n",
       "      <td>GRAND LARCENY</td>\n",
       "      <td>FELONY-GRAND LARCENY</td>\n",
       "      <td>7</td>\n",
       "      <td>1</td>\n",
       "      <td>2006-04-01</td>\n",
       "    </tr>\n",
       "    <tr>\n",
       "      <th>100</th>\n",
       "      <td>2006</td>\n",
       "      <td>5</td>\n",
       "      <td>BROOKLYN</td>\n",
       "      <td>BROOKLYN-75</td>\n",
       "      <td>75</td>\n",
       "      <td>FELONY</td>\n",
       "      <td>GRAND LARCENY</td>\n",
       "      <td>FELONY-GRAND LARCENY</td>\n",
       "      <td>3</td>\n",
       "      <td>1</td>\n",
       "      <td>2006-05-01</td>\n",
       "    </tr>\n",
       "  </tbody>\n",
       "</table>\n",
       "</div>"
      ],
      "text/plain": [
       "     YEAR  MONTH      BORO    BORO_PREC  PRECINCT CRIME_CAT        OFFENSE  \\\n",
       "6    2006      1  BROOKLYN  BROOKLYN-75        75    FELONY  GRAND LARCENY   \n",
       "32   2006      2  BROOKLYN  BROOKLYN-75        75    FELONY  GRAND LARCENY   \n",
       "53   2006      3  BROOKLYN  BROOKLYN-75        75    FELONY  GRAND LARCENY   \n",
       "75   2006      4  BROOKLYN  BROOKLYN-75        75    FELONY  GRAND LARCENY   \n",
       "100  2006      5  BROOKLYN  BROOKLYN-75        75    FELONY  GRAND LARCENY   \n",
       "\n",
       "                 CAT_OFNS  COUNT  DAY       DATE  \n",
       "6    FELONY-GRAND LARCENY      5    1 2006-01-01  \n",
       "32   FELONY-GRAND LARCENY      5    1 2006-02-01  \n",
       "53   FELONY-GRAND LARCENY     10    1 2006-03-01  \n",
       "75   FELONY-GRAND LARCENY      7    1 2006-04-01  \n",
       "100  FELONY-GRAND LARCENY      3    1 2006-05-01  "
      ]
     },
     "execution_count": 10,
     "metadata": {},
     "output_type": "execute_result"
    }
   ],
   "source": [
    "df.head(5)"
   ]
  },
  {
   "cell_type": "code",
   "execution_count": 11,
   "metadata": {},
   "outputs": [
    {
     "data": {
      "text/plain": [
       "(132, 132)"
      ]
     },
     "execution_count": 11,
     "metadata": {},
     "output_type": "execute_result"
    }
   ],
   "source": [
    "#check that there is an observation for all 132 months(12 months * 11 years)\n",
    "len(df.DATE.unique()), len(df)"
   ]
  },
  {
   "cell_type": "code",
   "execution_count": 12,
   "metadata": {
    "collapsed": true
   },
   "outputs": [],
   "source": [
    "#set up a new dataframe\n",
    "dfM = df.copy()"
   ]
  },
  {
   "cell_type": "code",
   "execution_count": 13,
   "metadata": {},
   "outputs": [
    {
     "data": {
      "text/html": [
       "<div>\n",
       "<style>\n",
       "    .dataframe thead tr:only-child th {\n",
       "        text-align: right;\n",
       "    }\n",
       "\n",
       "    .dataframe thead th {\n",
       "        text-align: left;\n",
       "    }\n",
       "\n",
       "    .dataframe tbody tr th {\n",
       "        vertical-align: top;\n",
       "    }\n",
       "</style>\n",
       "<table border=\"1\" class=\"dataframe\">\n",
       "  <thead>\n",
       "    <tr style=\"text-align: right;\">\n",
       "      <th></th>\n",
       "      <th>YEAR</th>\n",
       "      <th>MONTH</th>\n",
       "      <th>BORO</th>\n",
       "      <th>BORO_PREC</th>\n",
       "      <th>PRECINCT</th>\n",
       "      <th>CRIME_CAT</th>\n",
       "      <th>OFFENSE</th>\n",
       "      <th>CAT_OFNS</th>\n",
       "      <th>COUNT</th>\n",
       "      <th>DAY</th>\n",
       "      <th>DATE</th>\n",
       "      <th>COUNT_s1</th>\n",
       "      <th>diff_1</th>\n",
       "    </tr>\n",
       "  </thead>\n",
       "  <tbody>\n",
       "    <tr>\n",
       "      <th>6</th>\n",
       "      <td>2006</td>\n",
       "      <td>1</td>\n",
       "      <td>BROOKLYN</td>\n",
       "      <td>BROOKLYN-75</td>\n",
       "      <td>75</td>\n",
       "      <td>FELONY</td>\n",
       "      <td>GRAND LARCENY</td>\n",
       "      <td>FELONY-GRAND LARCENY</td>\n",
       "      <td>5</td>\n",
       "      <td>1</td>\n",
       "      <td>2006-01-01</td>\n",
       "      <td>NaN</td>\n",
       "      <td>NaN</td>\n",
       "    </tr>\n",
       "    <tr>\n",
       "      <th>32</th>\n",
       "      <td>2006</td>\n",
       "      <td>2</td>\n",
       "      <td>BROOKLYN</td>\n",
       "      <td>BROOKLYN-75</td>\n",
       "      <td>75</td>\n",
       "      <td>FELONY</td>\n",
       "      <td>GRAND LARCENY</td>\n",
       "      <td>FELONY-GRAND LARCENY</td>\n",
       "      <td>5</td>\n",
       "      <td>1</td>\n",
       "      <td>2006-02-01</td>\n",
       "      <td>5.0</td>\n",
       "      <td>0.0</td>\n",
       "    </tr>\n",
       "    <tr>\n",
       "      <th>53</th>\n",
       "      <td>2006</td>\n",
       "      <td>3</td>\n",
       "      <td>BROOKLYN</td>\n",
       "      <td>BROOKLYN-75</td>\n",
       "      <td>75</td>\n",
       "      <td>FELONY</td>\n",
       "      <td>GRAND LARCENY</td>\n",
       "      <td>FELONY-GRAND LARCENY</td>\n",
       "      <td>10</td>\n",
       "      <td>1</td>\n",
       "      <td>2006-03-01</td>\n",
       "      <td>5.0</td>\n",
       "      <td>5.0</td>\n",
       "    </tr>\n",
       "    <tr>\n",
       "      <th>75</th>\n",
       "      <td>2006</td>\n",
       "      <td>4</td>\n",
       "      <td>BROOKLYN</td>\n",
       "      <td>BROOKLYN-75</td>\n",
       "      <td>75</td>\n",
       "      <td>FELONY</td>\n",
       "      <td>GRAND LARCENY</td>\n",
       "      <td>FELONY-GRAND LARCENY</td>\n",
       "      <td>7</td>\n",
       "      <td>1</td>\n",
       "      <td>2006-04-01</td>\n",
       "      <td>10.0</td>\n",
       "      <td>-3.0</td>\n",
       "    </tr>\n",
       "    <tr>\n",
       "      <th>100</th>\n",
       "      <td>2006</td>\n",
       "      <td>5</td>\n",
       "      <td>BROOKLYN</td>\n",
       "      <td>BROOKLYN-75</td>\n",
       "      <td>75</td>\n",
       "      <td>FELONY</td>\n",
       "      <td>GRAND LARCENY</td>\n",
       "      <td>FELONY-GRAND LARCENY</td>\n",
       "      <td>3</td>\n",
       "      <td>1</td>\n",
       "      <td>2006-05-01</td>\n",
       "      <td>7.0</td>\n",
       "      <td>-4.0</td>\n",
       "    </tr>\n",
       "  </tbody>\n",
       "</table>\n",
       "</div>"
      ],
      "text/plain": [
       "     YEAR  MONTH      BORO    BORO_PREC  PRECINCT CRIME_CAT        OFFENSE  \\\n",
       "6    2006      1  BROOKLYN  BROOKLYN-75        75    FELONY  GRAND LARCENY   \n",
       "32   2006      2  BROOKLYN  BROOKLYN-75        75    FELONY  GRAND LARCENY   \n",
       "53   2006      3  BROOKLYN  BROOKLYN-75        75    FELONY  GRAND LARCENY   \n",
       "75   2006      4  BROOKLYN  BROOKLYN-75        75    FELONY  GRAND LARCENY   \n",
       "100  2006      5  BROOKLYN  BROOKLYN-75        75    FELONY  GRAND LARCENY   \n",
       "\n",
       "                 CAT_OFNS  COUNT  DAY       DATE  COUNT_s1  diff_1  \n",
       "6    FELONY-GRAND LARCENY      5    1 2006-01-01       NaN     NaN  \n",
       "32   FELONY-GRAND LARCENY      5    1 2006-02-01       5.0     0.0  \n",
       "53   FELONY-GRAND LARCENY     10    1 2006-03-01       5.0     5.0  \n",
       "75   FELONY-GRAND LARCENY      7    1 2006-04-01      10.0    -3.0  \n",
       "100  FELONY-GRAND LARCENY      3    1 2006-05-01       7.0    -4.0  "
      ]
     },
     "execution_count": 13,
     "metadata": {},
     "output_type": "execute_result"
    }
   ],
   "source": [
    "#Difference by 1 and view time series and resulting auto correlation\n",
    "dfM['COUNT_s1'] = dfM['COUNT'].shift(1)\n",
    "dfM['diff_1'] = df.COUNT - dfM.COUNT_s1\n",
    "dfM.head(5)"
   ]
  },
  {
   "cell_type": "markdown",
   "metadata": {},
   "source": [
    "# Baseline model/ Transform the data for supervised learning predicting one Month ahead\n",
    "For Time Series Model the naive model is used as the baseline: the value at the previous time step (t-1) is used to predict the expected outcome at the next time step (t+1)\n",
    "  \n",
    "Example:  Predict Jan if Dec is known  \n",
    "Actual = Jan 2016  \n",
    "Prediction = Dec 2015    "
   ]
  },
  {
   "cell_type": "code",
   "execution_count": 14,
   "metadata": {
    "collapsed": true
   },
   "outputs": [],
   "source": [
    "#Create the target variable: t+1 \n",
    "#for the Jan observation: y = t+1 = Jan, X = t = Dec\n",
    "dfM['t+1'] = dfM['COUNT']  #X\n",
    "dfM['t'] = dfM['COUNT_s1']  #y"
   ]
  },
  {
   "cell_type": "code",
   "execution_count": 15,
   "metadata": {
    "scrolled": true
   },
   "outputs": [
    {
     "data": {
      "text/html": [
       "<div>\n",
       "<style>\n",
       "    .dataframe thead tr:only-child th {\n",
       "        text-align: right;\n",
       "    }\n",
       "\n",
       "    .dataframe thead th {\n",
       "        text-align: left;\n",
       "    }\n",
       "\n",
       "    .dataframe tbody tr th {\n",
       "        vertical-align: top;\n",
       "    }\n",
       "</style>\n",
       "<table border=\"1\" class=\"dataframe\">\n",
       "  <thead>\n",
       "    <tr style=\"text-align: right;\">\n",
       "      <th></th>\n",
       "      <th>YEAR</th>\n",
       "      <th>MONTH</th>\n",
       "      <th>BORO</th>\n",
       "      <th>BORO_PREC</th>\n",
       "      <th>PRECINCT</th>\n",
       "      <th>CRIME_CAT</th>\n",
       "      <th>OFFENSE</th>\n",
       "      <th>CAT_OFNS</th>\n",
       "      <th>COUNT</th>\n",
       "      <th>DAY</th>\n",
       "      <th>DATE</th>\n",
       "      <th>COUNT_s1</th>\n",
       "      <th>diff_1</th>\n",
       "      <th>t+1</th>\n",
       "      <th>t</th>\n",
       "    </tr>\n",
       "  </thead>\n",
       "  <tbody>\n",
       "    <tr>\n",
       "      <th>6</th>\n",
       "      <td>2006</td>\n",
       "      <td>1</td>\n",
       "      <td>BROOKLYN</td>\n",
       "      <td>BROOKLYN-75</td>\n",
       "      <td>75</td>\n",
       "      <td>FELONY</td>\n",
       "      <td>GRAND LARCENY</td>\n",
       "      <td>FELONY-GRAND LARCENY</td>\n",
       "      <td>5</td>\n",
       "      <td>1</td>\n",
       "      <td>2006-01-01</td>\n",
       "      <td>NaN</td>\n",
       "      <td>NaN</td>\n",
       "      <td>5</td>\n",
       "      <td>NaN</td>\n",
       "    </tr>\n",
       "    <tr>\n",
       "      <th>32</th>\n",
       "      <td>2006</td>\n",
       "      <td>2</td>\n",
       "      <td>BROOKLYN</td>\n",
       "      <td>BROOKLYN-75</td>\n",
       "      <td>75</td>\n",
       "      <td>FELONY</td>\n",
       "      <td>GRAND LARCENY</td>\n",
       "      <td>FELONY-GRAND LARCENY</td>\n",
       "      <td>5</td>\n",
       "      <td>1</td>\n",
       "      <td>2006-02-01</td>\n",
       "      <td>5.0</td>\n",
       "      <td>0.0</td>\n",
       "      <td>5</td>\n",
       "      <td>5.0</td>\n",
       "    </tr>\n",
       "    <tr>\n",
       "      <th>53</th>\n",
       "      <td>2006</td>\n",
       "      <td>3</td>\n",
       "      <td>BROOKLYN</td>\n",
       "      <td>BROOKLYN-75</td>\n",
       "      <td>75</td>\n",
       "      <td>FELONY</td>\n",
       "      <td>GRAND LARCENY</td>\n",
       "      <td>FELONY-GRAND LARCENY</td>\n",
       "      <td>10</td>\n",
       "      <td>1</td>\n",
       "      <td>2006-03-01</td>\n",
       "      <td>5.0</td>\n",
       "      <td>5.0</td>\n",
       "      <td>10</td>\n",
       "      <td>5.0</td>\n",
       "    </tr>\n",
       "  </tbody>\n",
       "</table>\n",
       "</div>"
      ],
      "text/plain": [
       "    YEAR  MONTH      BORO    BORO_PREC  PRECINCT CRIME_CAT        OFFENSE  \\\n",
       "6   2006      1  BROOKLYN  BROOKLYN-75        75    FELONY  GRAND LARCENY   \n",
       "32  2006      2  BROOKLYN  BROOKLYN-75        75    FELONY  GRAND LARCENY   \n",
       "53  2006      3  BROOKLYN  BROOKLYN-75        75    FELONY  GRAND LARCENY   \n",
       "\n",
       "                CAT_OFNS  COUNT  DAY       DATE  COUNT_s1  diff_1  t+1    t  \n",
       "6   FELONY-GRAND LARCENY      5    1 2006-01-01       NaN     NaN    5  NaN  \n",
       "32  FELONY-GRAND LARCENY      5    1 2006-02-01       5.0     0.0    5  5.0  \n",
       "53  FELONY-GRAND LARCENY     10    1 2006-03-01       5.0     5.0   10  5.0  "
      ]
     },
     "execution_count": 15,
     "metadata": {},
     "output_type": "execute_result"
    }
   ],
   "source": [
    "dfM.head(3)"
   ]
  },
  {
   "cell_type": "code",
   "execution_count": 16,
   "metadata": {
    "collapsed": true
   },
   "outputs": [],
   "source": [
    "#holdout set = 2016\n",
    "training = dfM[dfM.YEAR <= 2015].dropna() #first row will be dropped\n",
    "holdout = dfM[dfM.YEAR == 2016].dropna()"
   ]
  },
  {
   "cell_type": "code",
   "execution_count": 17,
   "metadata": {},
   "outputs": [
    {
     "data": {
      "text/plain": [
       "(119, 12)"
      ]
     },
     "execution_count": 17,
     "metadata": {},
     "output_type": "execute_result"
    }
   ],
   "source": [
    "len(training), len(holdout)"
   ]
  },
  {
   "cell_type": "code",
   "execution_count": 18,
   "metadata": {},
   "outputs": [
    {
     "data": {
      "text/html": [
       "<div>\n",
       "<style>\n",
       "    .dataframe thead tr:only-child th {\n",
       "        text-align: right;\n",
       "    }\n",
       "\n",
       "    .dataframe thead th {\n",
       "        text-align: left;\n",
       "    }\n",
       "\n",
       "    .dataframe tbody tr th {\n",
       "        vertical-align: top;\n",
       "    }\n",
       "</style>\n",
       "<table border=\"1\" class=\"dataframe\">\n",
       "  <thead>\n",
       "    <tr style=\"text-align: right;\">\n",
       "      <th></th>\n",
       "      <th>YEAR</th>\n",
       "      <th>MONTH</th>\n",
       "      <th>BORO</th>\n",
       "      <th>BORO_PREC</th>\n",
       "      <th>PRECINCT</th>\n",
       "      <th>CRIME_CAT</th>\n",
       "      <th>OFFENSE</th>\n",
       "      <th>CAT_OFNS</th>\n",
       "      <th>COUNT</th>\n",
       "      <th>DAY</th>\n",
       "      <th>DATE</th>\n",
       "      <th>COUNT_s1</th>\n",
       "      <th>diff_1</th>\n",
       "      <th>t+1</th>\n",
       "      <th>t</th>\n",
       "    </tr>\n",
       "  </thead>\n",
       "  <tbody>\n",
       "    <tr>\n",
       "      <th>3013</th>\n",
       "      <td>2016</td>\n",
       "      <td>1</td>\n",
       "      <td>BROOKLYN</td>\n",
       "      <td>BROOKLYN-75</td>\n",
       "      <td>75</td>\n",
       "      <td>FELONY</td>\n",
       "      <td>GRAND LARCENY</td>\n",
       "      <td>FELONY-GRAND LARCENY</td>\n",
       "      <td>18</td>\n",
       "      <td>1</td>\n",
       "      <td>2016-01-01</td>\n",
       "      <td>12.0</td>\n",
       "      <td>6.0</td>\n",
       "      <td>18</td>\n",
       "      <td>12.0</td>\n",
       "    </tr>\n",
       "  </tbody>\n",
       "</table>\n",
       "</div>"
      ],
      "text/plain": [
       "      YEAR  MONTH      BORO    BORO_PREC  PRECINCT CRIME_CAT        OFFENSE  \\\n",
       "3013  2016      1  BROOKLYN  BROOKLYN-75        75    FELONY  GRAND LARCENY   \n",
       "\n",
       "                  CAT_OFNS  COUNT  DAY       DATE  COUNT_s1  diff_1  t+1     t  \n",
       "3013  FELONY-GRAND LARCENY     18    1 2016-01-01      12.0     6.0   18  12.0  "
      ]
     },
     "execution_count": 18,
     "metadata": {},
     "output_type": "execute_result"
    }
   ],
   "source": [
    "holdout.head(1)"
   ]
  },
  {
   "cell_type": "markdown",
   "metadata": {},
   "source": [
    "# Evaluate the Baseline Model"
   ]
  },
  {
   "cell_type": "code",
   "execution_count": 19,
   "metadata": {
    "collapsed": true
   },
   "outputs": [],
   "source": [
    "#plot model vs. actual\n",
    "def plot_model_results(train,test,actual_col,model_col,model_name):\n",
    "    plt.figure() #set up new plot\n",
    "    #Plot model vs actual\n",
    "    plt.plot_date(train.DATE,train[actual_col],fmt='Y',color='steelblue')\n",
    "    plt.plot_date(test.DATE,test[model_col], '--', color = 'red')\n",
    "    plt.plot_date(test.DATE,test[actual_col],color='green',fmt='Y')\n",
    "    plt.gca().xaxis.set_major_locator(mdates.YearLocator())\n",
    "    plt.xticks(rotation=45) \n",
    "    plt.title(model_name + ' Model vs Actual')"
   ]
  },
  {
   "cell_type": "code",
   "execution_count": 20,
   "metadata": {},
   "outputs": [
    {
     "data": {
      "image/png": "[encoded data removed]",
      "text/plain": [
       "<matplotlib.figure.Figure at 0x21c5b12d68>"
      ]
     },
     "metadata": {},
     "output_type": "display_data"
    }
   ],
   "source": [
    "plot_model_results(training,holdout,'t+1','t','Baseline')"
   ]
  },
  {
   "cell_type": "code",
   "execution_count": 21,
   "metadata": {
    "collapsed": true
   },
   "outputs": [],
   "source": [
    "#Calculate Forecast Error, Mean Forecast Error (Forecast Bias), \n",
    "#MAE (mean abs error), MAPE (mean absolute perecent error), \n",
    "#MSE (mean sq error), RMSE (root MSE) on the test set\n",
    "def model_eval(train,test,actual_col,model_col,model_name):\n",
    "    FE = test[actual_col] - test[model_col] #forecast error (series)\n",
    "    FB = np.mean(FE)  #forecast bias: can be pos or neg, ideal is 0\n",
    "    MAE = mean_absolute_error(test[actual_col],test[model_col]) #0 indicates no error\n",
    "    #MAPE = sum(abs(FE)/abs(test[actual_col]))/len(test[actual_col])*100\n",
    "    MSE = mean_squared_error(test[actual_col],test[model_col]) #0 indicates no error\n",
    "    RMSE = MSE ** 0.5 #same units as prediction\n",
    "    print('Performance Measures: '+model_name + ' Model')\n",
    "    print('Forecast Bias = {:.2f}, MAE = {:.2f}, MSE = {:.2f}, RMSE = {:.2f}'.format(FB,MAE,MSE,RMSE))\n"
   ]
  },
  {
   "cell_type": "code",
   "execution_count": 22,
   "metadata": {},
   "outputs": [
    {
     "name": "stdout",
     "output_type": "stream",
     "text": [
      "Performance Measures: Baseline Model\n",
      "Forecast Bias = -0.08, MAE = 3.42, MSE = 20.08, RMSE = 4.48\n"
     ]
    }
   ],
   "source": [
    "model_eval(training,holdout,'t+1','t','Baseline')"
   ]
  },
  {
   "cell_type": "markdown",
   "metadata": {},
   "source": [
    "# Creat a simple regression model\n",
    "Create a simple regression model with \"t+1\" as the target (y) and \"t\" as the feature (X)"
   ]
  },
  {
   "cell_type": "markdown",
   "metadata": {},
   "source": [
    "**Identify features and target **"
   ]
  },
  {
   "cell_type": "code",
   "execution_count": 23,
   "metadata": {
    "collapsed": true
   },
   "outputs": [],
   "source": [
    "#Identify features and target\n",
    "training_X = training[['t']]\n",
    "training_y = training[['t+1']]\n",
    "\n",
    "holdout_X = holdout[['t']]\n",
    "holdout_y = holdout[['t+1']]"
   ]
  },
  {
   "cell_type": "code",
   "execution_count": 24,
   "metadata": {},
   "outputs": [
    {
     "name": "stdout",
     "output_type": "stream",
     "text": [
      "119 12\n"
     ]
    }
   ],
   "source": [
    "#number of observations in each set\n",
    "n_training = len(training_X)\n",
    "n_holdout = len(holdout_X)\n",
    "print(n_training,n_holdout)"
   ]
  },
  {
   "cell_type": "markdown",
   "metadata": {},
   "source": [
    "**Scale the features **"
   ]
  },
  {
   "cell_type": "code",
   "execution_count": 25,
   "metadata": {
    "collapsed": true
   },
   "outputs": [],
   "source": [
    "#use the training set to create a standard scaler for validation \n",
    "#and test sets, finds the mean and standard deviation of the train set\n",
    "scaler_M7 = StandardScaler().fit(training_X)"
   ]
  },
  {
   "cell_type": "code",
   "execution_count": 26,
   "metadata": {},
   "outputs": [
    {
     "data": {
      "text/plain": [
       "(119, 12)"
      ]
     },
     "execution_count": 26,
     "metadata": {},
     "output_type": "execute_result"
    }
   ],
   "source": [
    "#transform the features for all sets using the scaler created from the \n",
    "#train set, this will subtract the mean to center the data and \n",
    "#divide by the standard deviation to scale it\n",
    "training_X_scaled = scaler_M7.transform(training_X)\n",
    "holdout_X_scaled = scaler_M7.transform(holdout_X)\n",
    "len(training_X_scaled),len(holdout_X_scaled)"
   ]
  },
  {
   "cell_type": "markdown",
   "metadata": {},
   "source": [
    "** Implement Linear Regression **"
   ]
  },
  {
   "cell_type": "code",
   "execution_count": 27,
   "metadata": {
    "collapsed": true
   },
   "outputs": [],
   "source": [
    "#create a linear regression model\n",
    "regr_M7 = linear_model.LinearRegression(fit_intercept=True, normalize=False, copy_X=True, n_jobs=1)"
   ]
  },
  {
   "cell_type": "markdown",
   "metadata": {},
   "source": [
    "** Evaluate the model by varying window size **  \n",
    "Evaluate how much data should the model be trained on."
   ]
  },
  {
   "cell_type": "code",
   "execution_count": 28,
   "metadata": {
    "collapsed": true
   },
   "outputs": [],
   "source": [
    "#use TimeSeriesSplit to split the data at 3 month intervals for training\n",
    "#the model and predict one month (Walk forward)\n",
    "min_train = 3 #months\n",
    "max_train = 3 #months\n",
    "splits = TimeSeriesSplit(n_splits=n_training-1,max_train_size = max_train)"
   ]
  },
  {
   "cell_type": "code",
   "execution_count": 29,
   "metadata": {},
   "outputs": [
    {
     "name": "stdout",
     "output_type": "stream",
     "text": [
      "[0 1 2] [3]\n",
      "[1 2 3] [4]\n",
      "[2 3 4] [5]\n",
      "[3 4 5] [6]\n",
      "[4 5 6] [7]\n",
      "[5 6 7] [8]\n",
      "[6 7 8] [9]\n",
      "[7 8 9] [10]\n",
      "[ 8  9 10] [11]\n",
      "[ 9 10 11] [12]\n",
      "[10 11 12] [13]\n",
      "[11 12 13] [14]\n",
      "[12 13 14] [15]\n",
      "[13 14 15] [16]\n",
      "[14 15 16] [17]\n",
      "[15 16 17] [18]\n",
      "[16 17 18] [19]\n",
      "[17 18 19] [20]\n",
      "[18 19 20] [21]\n",
      "[19 20 21] [22]\n",
      "[20 21 22] [23]\n",
      "[21 22 23] [24]\n",
      "[22 23 24] [25]\n",
      "[23 24 25] [26]\n",
      "[24 25 26] [27]\n",
      "[25 26 27] [28]\n",
      "[26 27 28] [29]\n",
      "[27 28 29] [30]\n",
      "[28 29 30] [31]\n",
      "[29 30 31] [32]\n",
      "[30 31 32] [33]\n",
      "[31 32 33] [34]\n",
      "[32 33 34] [35]\n",
      "[33 34 35] [36]\n",
      "[34 35 36] [37]\n",
      "[35 36 37] [38]\n",
      "[36 37 38] [39]\n",
      "[37 38 39] [40]\n",
      "[38 39 40] [41]\n",
      "[39 40 41] [42]\n",
      "[40 41 42] [43]\n",
      "[41 42 43] [44]\n",
      "[42 43 44] [45]\n",
      "[43 44 45] [46]\n",
      "[44 45 46] [47]\n",
      "[45 46 47] [48]\n",
      "[46 47 48] [49]\n",
      "[47 48 49] [50]\n",
      "[48 49 50] [51]\n",
      "[49 50 51] [52]\n",
      "[50 51 52] [53]\n",
      "[51 52 53] [54]\n",
      "[52 53 54] [55]\n",
      "[53 54 55] [56]\n",
      "[54 55 56] [57]\n",
      "[55 56 57] [58]\n",
      "[56 57 58] [59]\n",
      "[57 58 59] [60]\n",
      "[58 59 60] [61]\n",
      "[59 60 61] [62]\n",
      "[60 61 62] [63]\n",
      "[61 62 63] [64]\n",
      "[62 63 64] [65]\n",
      "[63 64 65] [66]\n",
      "[64 65 66] [67]\n",
      "[65 66 67] [68]\n",
      "[66 67 68] [69]\n",
      "[67 68 69] [70]\n",
      "[68 69 70] [71]\n",
      "[69 70 71] [72]\n",
      "[70 71 72] [73]\n",
      "[71 72 73] [74]\n",
      "[72 73 74] [75]\n",
      "[73 74 75] [76]\n",
      "[74 75 76] [77]\n",
      "[75 76 77] [78]\n",
      "[76 77 78] [79]\n",
      "[77 78 79] [80]\n",
      "[78 79 80] [81]\n",
      "[79 80 81] [82]\n",
      "[80 81 82] [83]\n",
      "[81 82 83] [84]\n",
      "[82 83 84] [85]\n",
      "[83 84 85] [86]\n",
      "[84 85 86] [87]\n",
      "[85 86 87] [88]\n",
      "[86 87 88] [89]\n",
      "[87 88 89] [90]\n",
      "[88 89 90] [91]\n",
      "[89 90 91] [92]\n",
      "[90 91 92] [93]\n",
      "[91 92 93] [94]\n",
      "[92 93 94] [95]\n",
      "[93 94 95] [96]\n",
      "[94 95 96] [97]\n",
      "[95 96 97] [98]\n",
      "[96 97 98] [99]\n",
      "[97 98 99] [100]\n",
      "[ 98  99 100] [101]\n",
      "[ 99 100 101] [102]\n",
      "[100 101 102] [103]\n",
      "[101 102 103] [104]\n",
      "[102 103 104] [105]\n",
      "[103 104 105] [106]\n",
      "[104 105 106] [107]\n",
      "[105 106 107] [108]\n",
      "[106 107 108] [109]\n",
      "[107 108 109] [110]\n",
      "[108 109 110] [111]\n",
      "[109 110 111] [112]\n",
      "[110 111 112] [113]\n",
      "[111 112 113] [114]\n",
      "[112 113 114] [115]\n",
      "[113 114 115] [116]\n",
      "[114 115 116] [117]\n",
      "[115 116 117] [118]\n"
     ]
    }
   ],
   "source": [
    "#split observations into set of 3 observations in the training set\n",
    "#and one in the validation set\n",
    "for train_index, test_index in splits.split(training_X):\n",
    "    if len(train_index) >= min_train:\n",
    "        print(train_index, test_index)"
   ]
  },
  {
   "cell_type": "code",
   "execution_count": 30,
   "metadata": {},
   "outputs": [
    {
     "name": "stdout",
     "output_type": "stream",
     "text": [
      "[[-1.05762986]\n",
      " [-1.05762986]\n",
      " [ 0.2452475 ]] [[ 5]\n",
      " [10]\n",
      " [ 7]]\n",
      "[[-0.53647891]] [[3]]\n",
      "[[-1.05762986]\n",
      " [ 0.2452475 ]\n",
      " [-0.53647891]] [[10]\n",
      " [ 7]\n",
      " [ 3]]\n",
      "[[-1.57878081]] [[4]]\n",
      "[[ 0.2452475 ]\n",
      " [-0.53647891]\n",
      " [-1.57878081]] [[7]\n",
      " [3]\n",
      " [4]]\n",
      "[[-1.31820533]] [[10]]\n",
      "[[-0.53647891]\n",
      " [-1.57878081]\n",
      " [-1.31820533]] [[ 3]\n",
      " [ 4]\n",
      " [10]]\n",
      "[[ 0.2452475]] [[8]]\n",
      "[[-1.57878081]\n",
      " [-1.31820533]\n",
      " [ 0.2452475 ]] [[ 4]\n",
      " [10]\n",
      " [ 8]]\n",
      "[[-0.27590344]] [[4]]\n",
      "[[-1.31820533]\n",
      " [ 0.2452475 ]\n",
      " [-0.27590344]] [[10]\n",
      " [ 8]\n",
      " [ 4]]\n",
      "[[-1.31820533]] [[7]]\n",
      "[[ 0.2452475 ]\n",
      " [-0.27590344]\n",
      " [-1.31820533]] [[8]\n",
      " [4]\n",
      " [7]]\n",
      "[[-0.53647891]] [[5]]\n",
      "[[-0.27590344]\n",
      " [-1.31820533]\n",
      " [-0.53647891]] [[4]\n",
      " [7]\n",
      " [5]]\n",
      "[[-1.05762986]] [[4]]\n",
      "[[-1.31820533]\n",
      " [-0.53647891]\n",
      " [-1.05762986]] [[7]\n",
      " [5]\n",
      " [4]]\n",
      "[[-1.31820533]] [[6]]\n",
      "[[-0.53647891]\n",
      " [-1.05762986]\n",
      " [-1.31820533]] [[5]\n",
      " [4]\n",
      " [6]]\n",
      "[[-0.79705439]] [[6]]\n",
      "[[-1.05762986]\n",
      " [-1.31820533]\n",
      " [-0.79705439]] [[4]\n",
      " [6]\n",
      " [6]]\n",
      "[[-0.79705439]] [[6]]\n",
      "[[-1.31820533]\n",
      " [-0.79705439]\n",
      " [-0.79705439]] [[6]\n",
      " [6]\n",
      " [6]]\n",
      "[[-0.79705439]] [[7]]\n",
      "[[-0.79705439]\n",
      " [-0.79705439]\n",
      " [-0.79705439]] [[6]\n",
      " [6]\n",
      " [7]]\n",
      "[[-0.53647891]] [[5]]\n",
      "[[-0.79705439]\n",
      " [-0.79705439]\n",
      " [-0.53647891]] [[6]\n",
      " [7]\n",
      " [5]]\n",
      "[[-1.05762986]] [[7]]\n",
      "[[-0.79705439]\n",
      " [-0.53647891]\n",
      " [-1.05762986]] [[7]\n",
      " [5]\n",
      " [7]]\n",
      "[[-0.53647891]] [[11]]\n",
      "[[-0.53647891]\n",
      " [-1.05762986]\n",
      " [-0.53647891]] [[ 5]\n",
      " [ 7]\n",
      " [11]]\n",
      "[[ 0.50582298]] [[8]]\n",
      "[[-1.05762986]\n",
      " [-0.53647891]\n",
      " [ 0.50582298]] [[ 7]\n",
      " [11]\n",
      " [ 8]]\n",
      "[[-0.27590344]] [[6]]\n",
      "[[-0.53647891]\n",
      " [ 0.50582298]\n",
      " [-0.27590344]] [[11]\n",
      " [ 8]\n",
      " [ 6]]\n",
      "[[-0.79705439]] [[7]]\n",
      "[[ 0.50582298]\n",
      " [-0.27590344]\n",
      " [-0.79705439]] [[8]\n",
      " [6]\n",
      " [7]]\n",
      "[[-0.53647891]] [[5]]\n",
      "[[-0.27590344]\n",
      " [-0.79705439]\n",
      " [-0.53647891]] [[6]\n",
      " [7]\n",
      " [5]]\n",
      "[[-1.05762986]] [[7]]\n",
      "[[-0.79705439]\n",
      " [-0.53647891]\n",
      " [-1.05762986]] [[7]\n",
      " [5]\n",
      " [7]]\n",
      "[[-0.53647891]] [[8]]\n",
      "[[-0.53647891]\n",
      " [-1.05762986]\n",
      " [-0.53647891]] [[5]\n",
      " [7]\n",
      " [8]]\n",
      "[[-0.27590344]] [[7]]\n",
      "[[-1.05762986]\n",
      " [-0.53647891]\n",
      " [-0.27590344]] [[7]\n",
      " [8]\n",
      " [7]]\n",
      "[[-0.53647891]] [[10]]\n",
      "[[-0.53647891]\n",
      " [-0.27590344]\n",
      " [-0.53647891]] [[ 8]\n",
      " [ 7]\n",
      " [10]]\n",
      "[[ 0.2452475]] [[5]]\n",
      "[[-0.27590344]\n",
      " [-0.53647891]\n",
      " [ 0.2452475 ]] [[ 7]\n",
      " [10]\n",
      " [ 5]]\n",
      "[[-1.05762986]] [[16]]\n",
      "[[-0.53647891]\n",
      " [ 0.2452475 ]\n",
      " [-1.05762986]] [[10]\n",
      " [ 5]\n",
      " [16]]\n",
      "[[ 1.80870034]] [[9]]\n",
      "[[ 0.2452475 ]\n",
      " [-1.05762986]\n",
      " [ 1.80870034]] [[ 5]\n",
      " [16]\n",
      " [ 9]]\n",
      "[[-0.01532797]] [[8]]\n",
      "[[-1.05762986]\n",
      " [ 1.80870034]\n",
      " [-0.01532797]] [[16]\n",
      " [ 9]\n",
      " [ 8]]\n",
      "[[-0.27590344]] [[8]]\n",
      "[[ 1.80870034]\n",
      " [-0.01532797]\n",
      " [-0.27590344]] [[9]\n",
      " [8]\n",
      " [8]]\n",
      "[[-0.27590344]] [[7]]\n",
      "[[-0.01532797]\n",
      " [-0.27590344]\n",
      " [-0.27590344]] [[8]\n",
      " [8]\n",
      " [7]]\n",
      "[[-0.53647891]] [[14]]\n",
      "[[-0.27590344]\n",
      " [-0.27590344]\n",
      " [-0.53647891]] [[ 8]\n",
      " [ 7]\n",
      " [14]]\n",
      "[[ 1.2875494]] [[7]]\n",
      "[[-0.27590344]\n",
      " [-0.53647891]\n",
      " [ 1.2875494 ]] [[ 7]\n",
      " [14]\n",
      " [ 7]]\n",
      "[[-0.53647891]] [[8]]\n",
      "[[-0.53647891]\n",
      " [ 1.2875494 ]\n",
      " [-0.53647891]] [[14]\n",
      " [ 7]\n",
      " [ 8]]\n",
      "[[-0.27590344]] [[14]]\n",
      "[[ 1.2875494 ]\n",
      " [-0.53647891]\n",
      " [-0.27590344]] [[ 7]\n",
      " [ 8]\n",
      " [14]]\n",
      "[[ 1.2875494]] [[6]]\n",
      "[[-0.53647891]\n",
      " [-0.27590344]\n",
      " [ 1.2875494 ]] [[ 8]\n",
      " [14]\n",
      " [ 6]]\n",
      "[[-0.79705439]] [[5]]\n",
      "[[-0.27590344]\n",
      " [ 1.2875494 ]\n",
      " [-0.79705439]] [[14]\n",
      " [ 6]\n",
      " [ 5]]\n",
      "[[-1.05762986]] [[3]]\n",
      "[[ 1.2875494 ]\n",
      " [-0.79705439]\n",
      " [-1.05762986]] [[6]\n",
      " [5]\n",
      " [3]]\n",
      "[[-1.57878081]] [[9]]\n",
      "[[-0.79705439]\n",
      " [-1.05762986]\n",
      " [-1.57878081]] [[5]\n",
      " [3]\n",
      " [9]]\n",
      "[[-0.01532797]] [[3]]\n",
      "[[-1.05762986]\n",
      " [-1.57878081]\n",
      " [-0.01532797]] [[3]\n",
      " [9]\n",
      " [3]]\n",
      "[[-1.57878081]] [[14]]\n",
      "[[-1.57878081]\n",
      " [-0.01532797]\n",
      " [-1.57878081]] [[ 9]\n",
      " [ 3]\n",
      " [14]]\n",
      "[[ 1.2875494]] [[6]]\n",
      "[[-0.01532797]\n",
      " [-1.57878081]\n",
      " [ 1.2875494 ]] [[ 3]\n",
      " [14]\n",
      " [ 6]]\n",
      "[[-0.79705439]] [[12]]\n",
      "[[-1.57878081]\n",
      " [ 1.2875494 ]\n",
      " [-0.79705439]] [[14]\n",
      " [ 6]\n",
      " [12]]\n",
      "[[ 0.76639845]] [[4]]\n",
      "[[ 1.2875494 ]\n",
      " [-0.79705439]\n",
      " [ 0.76639845]] [[ 6]\n",
      " [12]\n",
      " [ 4]]\n",
      "[[-1.31820533]] [[5]]\n",
      "[[-0.79705439]\n",
      " [ 0.76639845]\n",
      " [-1.31820533]] [[12]\n",
      " [ 4]\n",
      " [ 5]]\n",
      "[[-1.05762986]] [[6]]\n",
      "[[ 0.76639845]\n",
      " [-1.31820533]\n",
      " [-1.05762986]] [[4]\n",
      " [5]\n",
      " [6]]\n",
      "[[-0.79705439]] [[3]]\n",
      "[[-1.31820533]\n",
      " [-1.05762986]\n",
      " [-0.79705439]] [[5]\n",
      " [6]\n",
      " [3]]\n",
      "[[-1.57878081]] [[5]]\n",
      "[[-1.05762986]\n",
      " [-0.79705439]\n",
      " [-1.57878081]] [[6]\n",
      " [3]\n",
      " [5]]\n",
      "[[-1.05762986]] [[7]]\n",
      "[[-0.79705439]\n",
      " [-1.57878081]\n",
      " [-1.05762986]] [[3]\n",
      " [5]\n",
      " [7]]\n",
      "[[-0.53647891]] [[6]]\n",
      "[[-1.57878081]\n",
      " [-1.05762986]\n",
      " [-0.53647891]] [[5]\n",
      " [7]\n",
      " [6]]\n",
      "[[-0.79705439]] [[6]]\n",
      "[[-1.05762986]\n",
      " [-0.53647891]\n",
      " [-0.79705439]] [[7]\n",
      " [6]\n",
      " [6]]\n",
      "[[-0.79705439]] [[6]]\n",
      "[[-0.53647891]\n",
      " [-0.79705439]\n",
      " [-0.79705439]] [[6]\n",
      " [6]\n",
      " [6]]\n",
      "[[-0.79705439]] [[8]]\n",
      "[[-0.79705439]\n",
      " [-0.79705439]\n",
      " [-0.79705439]] [[6]\n",
      " [6]\n",
      " [8]]\n",
      "[[-0.27590344]] [[7]]\n",
      "[[-0.79705439]\n",
      " [-0.79705439]\n",
      " [-0.27590344]] [[6]\n",
      " [8]\n",
      " [7]]\n",
      "[[-0.53647891]] [[5]]\n",
      "[[-0.79705439]\n",
      " [-0.27590344]\n",
      " [-0.53647891]] [[8]\n",
      " [7]\n",
      " [5]]\n",
      "[[-1.05762986]] [[6]]\n",
      "[[-0.27590344]\n",
      " [-0.53647891]\n",
      " [-1.05762986]] [[7]\n",
      " [5]\n",
      " [6]]\n",
      "[[-0.79705439]] [[8]]\n",
      "[[-0.53647891]\n",
      " [-1.05762986]\n",
      " [-0.79705439]] [[5]\n",
      " [6]\n",
      " [8]]\n",
      "[[-0.27590344]] [[10]]\n",
      "[[-1.05762986]\n",
      " [-0.79705439]\n",
      " [-0.27590344]] [[ 6]\n",
      " [ 8]\n",
      " [10]]\n",
      "[[ 0.2452475]] [[9]]\n",
      "[[-0.79705439]\n",
      " [-0.27590344]\n",
      " [ 0.2452475 ]] [[ 8]\n",
      " [10]\n",
      " [ 9]]\n",
      "[[-0.01532797]] [[8]]\n",
      "[[-0.27590344]\n",
      " [ 0.2452475 ]\n",
      " [-0.01532797]] [[10]\n",
      " [ 9]\n",
      " [ 8]]\n",
      "[[-0.27590344]] [[9]]\n",
      "[[ 0.2452475 ]\n",
      " [-0.01532797]\n",
      " [-0.27590344]] [[9]\n",
      " [8]\n",
      " [9]]\n",
      "[[-0.01532797]] [[8]]\n",
      "[[-0.01532797]\n",
      " [-0.27590344]\n",
      " [-0.01532797]] [[8]\n",
      " [9]\n",
      " [8]]\n",
      "[[-0.27590344]] [[5]]\n",
      "[[-0.27590344]\n",
      " [-0.01532797]\n",
      " [-0.27590344]] [[9]\n",
      " [8]\n",
      " [5]]\n",
      "[[-1.05762986]] [[4]]\n",
      "[[-0.01532797]\n",
      " [-0.27590344]\n",
      " [-1.05762986]] [[8]\n",
      " [5]\n",
      " [4]]\n",
      "[[-1.31820533]] [[8]]\n",
      "[[-0.27590344]\n",
      " [-1.05762986]\n",
      " [-1.31820533]] [[5]\n",
      " [4]\n",
      " [8]]\n",
      "[[-0.27590344]] [[9]]\n",
      "[[-1.05762986]\n",
      " [-1.31820533]\n",
      " [-0.27590344]] [[4]\n",
      " [8]\n",
      " [9]]\n",
      "[[-0.01532797]] [[13]]\n",
      "[[-1.31820533]\n",
      " [-0.27590344]\n",
      " [-0.01532797]] [[ 8]\n",
      " [ 9]\n",
      " [13]]\n",
      "[[ 1.02697392]] [[14]]\n",
      "[[-0.27590344]\n",
      " [-0.01532797]\n",
      " [ 1.02697392]] [[ 9]\n",
      " [13]\n",
      " [14]]\n",
      "[[ 1.2875494]] [[12]]\n",
      "[[-0.01532797]\n",
      " [ 1.02697392]\n",
      " [ 1.2875494 ]] [[13]\n",
      " [14]\n",
      " [12]]\n",
      "[[ 0.76639845]] [[6]]\n",
      "[[ 1.02697392]\n",
      " [ 1.2875494 ]\n",
      " [ 0.76639845]] [[14]\n",
      " [12]\n",
      " [ 6]]\n",
      "[[-0.79705439]] [[8]]\n",
      "[[ 1.2875494 ]\n",
      " [ 0.76639845]\n",
      " [-0.79705439]] [[12]\n",
      " [ 6]\n",
      " [ 8]]\n",
      "[[-0.27590344]] [[11]]\n",
      "[[ 0.76639845]\n",
      " [-0.79705439]\n",
      " [-0.27590344]] [[ 6]\n",
      " [ 8]\n",
      " [11]]\n",
      "[[ 0.50582298]] [[12]]\n",
      "[[-0.79705439]\n",
      " [-0.27590344]\n",
      " [ 0.50582298]] [[ 8]\n",
      " [11]\n",
      " [12]]\n",
      "[[ 0.76639845]] [[10]]\n",
      "[[-0.27590344]\n",
      " [ 0.50582298]\n",
      " [ 0.76639845]] [[11]\n",
      " [12]\n",
      " [10]]\n",
      "[[ 0.2452475]] [[14]]\n",
      "[[ 0.50582298]\n",
      " [ 0.76639845]\n",
      " [ 0.2452475 ]] [[12]\n",
      " [10]\n",
      " [14]]\n",
      "[[ 1.2875494]] [[14]]\n",
      "[[ 0.76639845]\n",
      " [ 0.2452475 ]\n",
      " [ 1.2875494 ]] [[10]\n",
      " [14]\n",
      " [14]]\n",
      "[[ 1.2875494]] [[14]]\n",
      "[[ 0.2452475]\n",
      " [ 1.2875494]\n",
      " [ 1.2875494]] [[14]\n",
      " [14]\n",
      " [14]]\n",
      "[[ 1.2875494]] [[15]]\n",
      "[[ 1.2875494]\n",
      " [ 1.2875494]\n",
      " [ 1.2875494]] [[14]\n",
      " [14]\n",
      " [15]]\n",
      "[[ 1.54812487]] [[4]]\n",
      "[[ 1.2875494 ]\n",
      " [ 1.2875494 ]\n",
      " [ 1.54812487]] [[14]\n",
      " [15]\n",
      " [ 4]]\n",
      "[[-1.31820533]] [[14]]\n",
      "[[ 1.2875494 ]\n",
      " [ 1.54812487]\n",
      " [-1.31820533]] [[15]\n",
      " [ 4]\n",
      " [14]]\n",
      "[[ 1.2875494]] [[19]]\n",
      "[[ 1.54812487]\n",
      " [-1.31820533]\n",
      " [ 1.2875494 ]] [[ 4]\n",
      " [14]\n",
      " [19]]\n",
      "[[ 2.59042676]] [[13]]\n",
      "[[-1.31820533]\n",
      " [ 1.2875494 ]\n",
      " [ 2.59042676]] [[14]\n",
      " [19]\n",
      " [13]]\n",
      "[[ 1.02697392]] [[9]]\n",
      "[[ 1.2875494 ]\n",
      " [ 2.59042676]\n",
      " [ 1.02697392]] [[19]\n",
      " [13]\n",
      " [ 9]]\n",
      "[[-0.01532797]] [[13]]\n",
      "[[ 2.59042676]\n",
      " [ 1.02697392]\n",
      " [-0.01532797]] [[13]\n",
      " [ 9]\n",
      " [13]]\n",
      "[[ 1.02697392]] [[13]]\n",
      "[[ 1.02697392]\n",
      " [-0.01532797]\n",
      " [ 1.02697392]] [[ 9]\n",
      " [13]\n",
      " [13]]\n",
      "[[ 1.02697392]] [[15]]\n",
      "[[-0.01532797]\n",
      " [ 1.02697392]\n",
      " [ 1.02697392]] [[13]\n",
      " [13]\n",
      " [15]]\n",
      "[[ 1.54812487]] [[13]]\n",
      "[[ 1.02697392]\n",
      " [ 1.02697392]\n",
      " [ 1.54812487]] [[13]\n",
      " [15]\n",
      " [13]]\n",
      "[[ 1.02697392]] [[11]]\n",
      "[[ 1.02697392]\n",
      " [ 1.54812487]\n",
      " [ 1.02697392]] [[15]\n",
      " [13]\n",
      " [11]]\n",
      "[[ 0.50582298]] [[17]]\n",
      "[[ 1.54812487]\n",
      " [ 1.02697392]\n",
      " [ 0.50582298]] [[13]\n",
      " [11]\n",
      " [17]]\n",
      "[[ 2.06927581]] [[18]]\n",
      "[[ 1.02697392]\n",
      " [ 0.50582298]\n",
      " [ 2.06927581]] [[11]\n",
      " [17]\n",
      " [18]]\n",
      "[[ 2.32985129]] [[11]]\n",
      "[[ 0.50582298]\n",
      " [ 2.06927581]\n",
      " [ 2.32985129]] [[17]\n",
      " [18]\n",
      " [11]]\n",
      "[[ 0.50582298]] [[17]]\n",
      "[[ 2.06927581]\n",
      " [ 2.32985129]\n",
      " [ 0.50582298]] [[18]\n",
      " [11]\n",
      " [17]]\n",
      "[[ 2.06927581]] [[8]]\n",
      "[[ 2.32985129]\n",
      " [ 0.50582298]\n",
      " [ 2.06927581]] [[11]\n",
      " [17]\n",
      " [ 8]]\n",
      "[[-0.27590344]] [[12]]\n",
      "[[ 0.50582298]\n",
      " [ 2.06927581]\n",
      " [-0.27590344]] [[17]\n",
      " [ 8]\n",
      " [12]]\n",
      "[[ 0.76639845]] [[9]]\n",
      "[[ 2.06927581]\n",
      " [-0.27590344]\n",
      " [ 0.76639845]] [[ 8]\n",
      " [12]\n",
      " [ 9]]\n",
      "[[-0.01532797]] [[9]]\n",
      "[[-0.27590344]\n",
      " [ 0.76639845]\n",
      " [-0.01532797]] [[12]\n",
      " [ 9]\n",
      " [ 9]]\n",
      "[[-0.01532797]] [[13]]\n",
      "[[ 0.76639845]\n",
      " [-0.01532797]\n",
      " [-0.01532797]] [[ 9]\n",
      " [ 9]\n",
      " [13]]\n",
      "[[ 1.02697392]] [[9]]\n",
      "[[-0.01532797]\n",
      " [-0.01532797]\n",
      " [ 1.02697392]] [[ 9]\n",
      " [13]\n",
      " [ 9]]\n",
      "[[-0.01532797]] [[7]]\n",
      "[[-0.01532797]\n",
      " [ 1.02697392]\n",
      " [-0.01532797]] [[13]\n",
      " [ 9]\n",
      " [ 7]]\n",
      "[[-0.53647891]] [[10]]\n",
      "[[ 1.02697392]\n",
      " [-0.01532797]\n",
      " [-0.53647891]] [[ 9]\n",
      " [ 7]\n",
      " [10]]\n",
      "[[ 0.2452475]] [[22]]\n",
      "[[-0.01532797]\n",
      " [-0.53647891]\n",
      " [ 0.2452475 ]] [[ 7]\n",
      " [10]\n",
      " [22]]\n",
      "[[ 3.37215318]] [[12]]\n",
      "[[-0.53647891]\n",
      " [ 0.2452475 ]\n",
      " [ 3.37215318]] [[10]\n",
      " [22]\n",
      " [12]]\n",
      "[[ 0.76639845]] [[14]]\n",
      "[[ 0.2452475 ]\n",
      " [ 3.37215318]\n",
      " [ 0.76639845]] [[22]\n",
      " [12]\n",
      " [14]]\n",
      "[[ 1.2875494]] [[6]]\n",
      "[[ 3.37215318]\n",
      " [ 0.76639845]\n",
      " [ 1.2875494 ]] [[12]\n",
      " [14]\n",
      " [ 6]]\n",
      "[[-0.79705439]] [[17]]\n",
      "[[ 0.76639845]\n",
      " [ 1.2875494 ]\n",
      " [-0.79705439]] [[14]\n",
      " [ 6]\n",
      " [17]]\n",
      "[[ 2.06927581]] [[10]]\n",
      "[[ 1.2875494 ]\n",
      " [-0.79705439]\n",
      " [ 2.06927581]] [[ 6]\n",
      " [17]\n",
      " [10]]\n",
      "[[ 0.2452475]] [[11]]\n",
      "[[-0.79705439]\n",
      " [ 2.06927581]\n",
      " [ 0.2452475 ]] [[17]\n",
      " [10]\n",
      " [11]]\n",
      "[[ 0.50582298]] [[7]]\n",
      "[[ 2.06927581]\n",
      " [ 0.2452475 ]\n",
      " [ 0.50582298]] [[10]\n",
      " [11]\n",
      " [ 7]]\n",
      "[[-0.53647891]] [[7]]\n",
      "[[ 0.2452475 ]\n",
      " [ 0.50582298]\n",
      " [-0.53647891]] [[11]\n",
      " [ 7]\n",
      " [ 7]]\n",
      "[[-0.53647891]] [[6]]\n",
      "[[ 0.50582298]\n",
      " [-0.53647891]\n",
      " [-0.53647891]] [[7]\n",
      " [7]\n",
      " [6]]\n",
      "[[-0.79705439]] [[11]]\n",
      "[[-0.53647891]\n",
      " [-0.53647891]\n",
      " [-0.79705439]] [[ 7]\n",
      " [ 6]\n",
      " [11]]\n",
      "[[ 0.50582298]] [[12]]\n",
      "[[-0.53647891]\n",
      " [-0.79705439]\n",
      " [ 0.50582298]] [[ 6]\n",
      " [11]\n",
      " [12]]\n",
      "[[ 0.76639845]] [[10]]\n",
      "[[-0.79705439]\n",
      " [ 0.50582298]\n",
      " [ 0.76639845]] [[11]\n",
      " [12]\n",
      " [10]]\n",
      "[[ 0.2452475]] [[8]]\n",
      "[[ 0.50582298]\n",
      " [ 0.76639845]\n",
      " [ 0.2452475 ]] [[12]\n",
      " [10]\n",
      " [ 8]]\n",
      "[[-0.27590344]] [[11]]\n",
      "[[ 0.76639845]\n",
      " [ 0.2452475 ]\n",
      " [-0.27590344]] [[10]\n",
      " [ 8]\n",
      " [11]]\n",
      "[[ 0.50582298]] [[11]]\n",
      "[[ 0.2452475 ]\n",
      " [-0.27590344]\n",
      " [ 0.50582298]] [[ 8]\n",
      " [11]\n",
      " [11]]\n",
      "[[ 0.50582298]] [[12]]\n",
      "[[-0.27590344]\n",
      " [ 0.50582298]\n",
      " [ 0.50582298]] [[11]\n",
      " [11]\n",
      " [12]]\n",
      "[[ 0.76639845]] [[12]]\n"
     ]
    }
   ],
   "source": [
    "#create a set of size max_train as long as the set is size min_train\n",
    "for train_index, test_index in splits.split(training_X):\n",
    "    if len(train_index) >= min_train:\n",
    "        #print(train_index, test_index)\n",
    "        train_set_X = training_X_scaled[train_index]\n",
    "        train_set_y = training_y.values[train_index]\n",
    "        test_set_X = training_X_scaled[test_index]\n",
    "        test_set_y = training_y.values[test_index]\n",
    "        \n",
    "        #print(train_index,test_index)\n",
    "        print(train_set_X,train_set_y)\n",
    "        print(test_set_X,test_set_y)"
   ]
  },
  {
   "cell_type": "code",
   "execution_count": 31,
   "metadata": {
    "collapsed": true
   },
   "outputs": [],
   "source": [
    "#get the RMSE (for predicted residuals) for a specified training set size\n",
    "#using a sliding window to predict a test size of 1\n",
    "#Walk forward validation\n",
    "def ts_kfold(min_train,max_train,model):  #test size is 1 (n_training-1)\n",
    "    test_pred_list = [] #store the test predictions of each ts-kfold\n",
    "    splits = TimeSeriesSplit(n_splits=n_training-1,\n",
    "                             max_train_size = max_train)\n",
    "    for train_index, test_index in splits.split(training_X):\n",
    "        if len(train_index) >= min_train:\n",
    "            #print(train_index, test_index)\n",
    "            train_set_X = training_X_scaled[train_index]\n",
    "            train_set_y = training_y.values[train_index]\n",
    "            test_set_X = training_X_scaled[test_index]\n",
    "            test_set_y = training_y.values[test_index]\n",
    "            \n",
    "            #fit the regression model on the train set\n",
    "            model.fit(train_set_X, train_set_y)\n",
    "            \n",
    "            #predict the target values of the test set\n",
    "            test_pred = model.predict(test_set_X)\n",
    "            \n",
    "            #add the prediction to the list\n",
    "            test_pred_list.append(test_pred[0])\n",
    "            \n",
    "    #Calculate RMSE on the validation set\n",
    "    RMSE = mean_squared_error(test_pred_list,training_y[min_train:]) ** 0.5\n",
    "\n",
    "    return(RMSE)"
   ]
  },
  {
   "cell_type": "code",
   "execution_count": 32,
   "metadata": {},
   "outputs": [
    {
     "data": {
      "text/plain": [
       "12.37628627292683"
      ]
     },
     "execution_count": 32,
     "metadata": {},
     "output_type": "execute_result"
    }
   ],
   "source": [
    "ts_kfold(3,3,regr_M7)"
   ]
  },
  {
   "cell_type": "code",
   "execution_count": 33,
   "metadata": {
    "collapsed": true
   },
   "outputs": [],
   "source": [
    "#get the MSE for windows in multiples of 3 from 3 to the size of the training set\n",
    "#calculate RMSE for each and plot\n",
    "RMSE_list = []\n",
    "W =[i for i in range(n_training)[3::3]]\n",
    "#print(W)\n",
    "\n",
    "for w in W:\n",
    "    RMSE_w = ts_kfold(w,w,regr_M7)\n",
    "    RMSE_list.append(RMSE_w)"
   ]
  },
  {
   "cell_type": "code",
   "execution_count": 34,
   "metadata": {},
   "outputs": [
    {
     "data": {
      "text/plain": [
       "Text(0.5,1,'RMSE by window')"
      ]
     },
     "execution_count": 34,
     "metadata": {},
     "output_type": "execute_result"
    },
    {
     "data": {
      "image/png": "[encoded data removed]",
      "text/plain": [
       "<matplotlib.figure.Figure at 0x21c607aa58>"
      ]
     },
     "metadata": {},
     "output_type": "display_data"
    }
   ],
   "source": [
    "plt.plot(W,RMSE_list)\n",
    "plt.xticks(np.arange(min(W),max(W)+1,6.0))\n",
    "plt.ylabel('RMSE')\n",
    "plt.xlabel('Window (months)')\n",
    "plt.title('RMSE by window')"
   ]
  },
  {
   "cell_type": "markdown",
   "metadata": {},
   "source": [
    "Minimum RMSE is at window = 12 months\n",
    "  \n",
    "There are lower values at the end but those are a result of very few cross validations because larger window sizes don't allow for many training sets of that size."
   ]
  },
  {
   "cell_type": "markdown",
   "metadata": {},
   "source": [
    "** Get the RMSE for the regression model with a window of 12 **"
   ]
  },
  {
   "cell_type": "code",
   "execution_count": 35,
   "metadata": {},
   "outputs": [
    {
     "data": {
      "text/plain": [
       "3.4378984870792539"
      ]
     },
     "execution_count": 35,
     "metadata": {},
     "output_type": "execute_result"
    }
   ],
   "source": [
    "#Walk Forward Validation RMSE when the window is 12\n",
    "RMSE_list[W.index(12)]"
   ]
  },
  {
   "cell_type": "markdown",
   "metadata": {},
   "source": [
    "** Using a window of 12 months and fitting a linear regression with one feature (number of crimes in the previous time period), the model can be retrained as new data becomes available **"
   ]
  },
  {
   "cell_type": "markdown",
   "metadata": {},
   "source": [
    "** Get the RMSE for 2016 to compare to the baseline model **"
   ]
  },
  {
   "cell_type": "code",
   "execution_count": 36,
   "metadata": {
    "collapsed": true
   },
   "outputs": [],
   "source": [
    "#generate model with window = 12, feature = prior month, predict next month\n",
    "\n",
    "def ts_walk_forward(X,y,min_train,max_train,model):  #test size is 1 (n_training-1)\n",
    "    test_pred_list = [] #store the test predictions of each ts-step\n",
    "    splits = TimeSeriesSplit(n_splits=len(X)-1,\n",
    "                             max_train_size = max_train)\n",
    "    for train_index, test_index in splits.split(X):\n",
    "        if len(train_index) >= min_train:\n",
    "            #print(train_index, test_index)        \n",
    "            train_set_X = X[train_index]\n",
    "            train_set_y = y[train_index]\n",
    "            test_set_X = X[test_index]\n",
    "            test_set_y = y[test_index]\n",
    "            \n",
    "            #fit the regression model on the train set\n",
    "            model.fit(train_set_X, train_set_y)\n",
    "            \n",
    "            #predict the target values of the test set\n",
    "            test_pred = model.predict(test_set_X)\n",
    "            \n",
    "            #add the prediction to the list\n",
    "            test_pred_list.append(test_pred[0])\n",
    "            \n",
    "    #Calculate RMSE on the validation set\n",
    "    RMSE = mean_squared_error(test_pred_list,y[min_train:]) ** 0.5\n",
    "\n",
    "    return(RMSE,test_pred_list,y[min_train:])"
   ]
  },
  {
   "cell_type": "code",
   "execution_count": 37,
   "metadata": {
    "collapsed": true
   },
   "outputs": [],
   "source": [
    "#get 2015 and 2016 and predict 2016\n",
    "X_15_16 = np.concatenate((training_X_scaled[-12:],holdout_X_scaled),axis=0)\n",
    "y_15_16 = np.concatenate((training_y[-12:],holdout_y),axis=0)"
   ]
  },
  {
   "cell_type": "code",
   "execution_count": 38,
   "metadata": {},
   "outputs": [
    {
     "data": {
      "text/plain": [
       "(24, 24)"
      ]
     },
     "execution_count": 38,
     "metadata": {},
     "output_type": "execute_result"
    }
   ],
   "source": [
    "len(X_15_16),len(y_15_16)"
   ]
  },
  {
   "cell_type": "code",
   "execution_count": 39,
   "metadata": {},
   "outputs": [],
   "source": [
    "#run model\n",
    "M7_2016_RMSE,M7_pred_2016,M7_actual_2016 = ts_walk_forward(\n",
    "    X_15_16,y_15_16,12,12,regr_M7)"
   ]
  },
  {
   "cell_type": "code",
   "execution_count": 40,
   "metadata": {},
   "outputs": [
    {
     "data": {
      "text/plain": [
       "4.1107312862403402"
      ]
     },
     "execution_count": 40,
     "metadata": {},
     "output_type": "execute_result"
    }
   ],
   "source": [
    "M7_2016_RMSE"
   ]
  },
  {
   "cell_type": "markdown",
   "metadata": {},
   "source": [
    "** For the 2016 prediction, the M1 RMSE is 4.11 which is lower than the Baseline model RMSE of 4.48 **"
   ]
  },
  {
   "cell_type": "code",
   "execution_count": 41,
   "metadata": {
    "collapsed": true
   },
   "outputs": [],
   "source": [
    "df_M7_2016 = pd.DataFrame({'DATE':dfM.DATE[-12:],'ACTUAL':[i[0] for i in M7_actual_2016],\n",
    "                      'M7':[i[0] for i in M7_pred_2016],\n",
    "                     'BASELINE':dfM.t[-12:]})\n"
   ]
  },
  {
   "cell_type": "code",
   "execution_count": 42,
   "metadata": {},
   "outputs": [
    {
     "data": {
      "text/html": [
       "<div>\n",
       "<style>\n",
       "    .dataframe thead tr:only-child th {\n",
       "        text-align: right;\n",
       "    }\n",
       "\n",
       "    .dataframe thead th {\n",
       "        text-align: left;\n",
       "    }\n",
       "\n",
       "    .dataframe tbody tr th {\n",
       "        vertical-align: top;\n",
       "    }\n",
       "</style>\n",
       "<table border=\"1\" class=\"dataframe\">\n",
       "  <thead>\n",
       "    <tr style=\"text-align: right;\">\n",
       "      <th></th>\n",
       "      <th>ACTUAL</th>\n",
       "      <th>BASELINE</th>\n",
       "      <th>DATE</th>\n",
       "      <th>M7</th>\n",
       "    </tr>\n",
       "  </thead>\n",
       "  <tbody>\n",
       "    <tr>\n",
       "      <th>3013</th>\n",
       "      <td>18</td>\n",
       "      <td>12.0</td>\n",
       "      <td>2016-01-01</td>\n",
       "      <td>10.808219</td>\n",
       "    </tr>\n",
       "    <tr>\n",
       "      <th>3035</th>\n",
       "      <td>10</td>\n",
       "      <td>18.0</td>\n",
       "      <td>2016-02-01</td>\n",
       "      <td>16.173913</td>\n",
       "    </tr>\n",
       "    <tr>\n",
       "      <th>3064</th>\n",
       "      <td>9</td>\n",
       "      <td>10.0</td>\n",
       "      <td>2016-03-01</td>\n",
       "      <td>10.533720</td>\n",
       "    </tr>\n",
       "    <tr>\n",
       "      <th>3092</th>\n",
       "      <td>17</td>\n",
       "      <td>9.0</td>\n",
       "      <td>2016-04-01</td>\n",
       "      <td>10.438312</td>\n",
       "    </tr>\n",
       "    <tr>\n",
       "      <th>3118</th>\n",
       "      <td>10</td>\n",
       "      <td>17.0</td>\n",
       "      <td>2016-05-01</td>\n",
       "      <td>11.380000</td>\n",
       "    </tr>\n",
       "    <tr>\n",
       "      <th>3142</th>\n",
       "      <td>11</td>\n",
       "      <td>10.0</td>\n",
       "      <td>2016-06-01</td>\n",
       "      <td>12.012121</td>\n",
       "    </tr>\n",
       "    <tr>\n",
       "      <th>3171</th>\n",
       "      <td>10</td>\n",
       "      <td>11.0</td>\n",
       "      <td>2016-07-01</td>\n",
       "      <td>11.702703</td>\n",
       "    </tr>\n",
       "    <tr>\n",
       "      <th>3196</th>\n",
       "      <td>11</td>\n",
       "      <td>10.0</td>\n",
       "      <td>2016-08-01</td>\n",
       "      <td>11.840775</td>\n",
       "    </tr>\n",
       "    <tr>\n",
       "      <th>3224</th>\n",
       "      <td>7</td>\n",
       "      <td>11.0</td>\n",
       "      <td>2016-09-01</td>\n",
       "      <td>11.956192</td>\n",
       "    </tr>\n",
       "    <tr>\n",
       "      <th>3251</th>\n",
       "      <td>7</td>\n",
       "      <td>7.0</td>\n",
       "      <td>2016-10-01</td>\n",
       "      <td>12.628405</td>\n",
       "    </tr>\n",
       "    <tr>\n",
       "      <th>3272</th>\n",
       "      <td>9</td>\n",
       "      <td>7.0</td>\n",
       "      <td>2016-11-01</td>\n",
       "      <td>11.166667</td>\n",
       "    </tr>\n",
       "    <tr>\n",
       "      <th>3297</th>\n",
       "      <td>11</td>\n",
       "      <td>9.0</td>\n",
       "      <td>2016-12-01</td>\n",
       "      <td>10.758621</td>\n",
       "    </tr>\n",
       "  </tbody>\n",
       "</table>\n",
       "</div>"
      ],
      "text/plain": [
       "      ACTUAL  BASELINE       DATE         M7\n",
       "3013      18      12.0 2016-01-01  10.808219\n",
       "3035      10      18.0 2016-02-01  16.173913\n",
       "3064       9      10.0 2016-03-01  10.533720\n",
       "3092      17       9.0 2016-04-01  10.438312\n",
       "3118      10      17.0 2016-05-01  11.380000\n",
       "3142      11      10.0 2016-06-01  12.012121\n",
       "3171      10      11.0 2016-07-01  11.702703\n",
       "3196      11      10.0 2016-08-01  11.840775\n",
       "3224       7      11.0 2016-09-01  11.956192\n",
       "3251       7       7.0 2016-10-01  12.628405\n",
       "3272       9       7.0 2016-11-01  11.166667\n",
       "3297      11       9.0 2016-12-01  10.758621"
      ]
     },
     "execution_count": 42,
     "metadata": {},
     "output_type": "execute_result"
    }
   ],
   "source": [
    "df_M7_2016"
   ]
  },
  {
   "cell_type": "code",
   "execution_count": 43,
   "metadata": {},
   "outputs": [
    {
     "data": {
      "text/plain": [
       "<matplotlib.legend.Legend at 0x21c6555f98>"
      ]
     },
     "execution_count": 43,
     "metadata": {},
     "output_type": "execute_result"
    },
    {
     "data": {
      "image/png": "[encoded data removed]",
      "text/plain": [
       "<matplotlib.figure.Figure at 0x21c6523ba8>"
      ]
     },
     "metadata": {},
     "output_type": "display_data"
    }
   ],
   "source": [
    "#Plot model results\n",
    "plt.plot(df_M7_2016.DATE,df_M7_2016.ACTUAL,color = 'steelblue')\n",
    "plt.plot(df_M7_2016.DATE,df_M7_2016.BASELINE,'--',color='steelblue')\n",
    "plt.plot(df_M7_2016.DATE,df_M7_2016.M7, '--', color = 'red')\n",
    "plt.title('M7 Model vs Actual and Baseline (2016)')\n",
    "axes = plt.gca()\n",
    "axes.set_ylim([0,20])\n",
    "plt.legend()"
   ]
  },
  {
   "cell_type": "code",
   "execution_count": 44,
   "metadata": {
    "collapsed": true
   },
   "outputs": [],
   "source": [
    "#run model\n",
    "M7_RMSE,M7_pred,M7_actual = ts_walk_forward(training_X_scaled,training_y.values,12,12,regr_M7)"
   ]
  },
  {
   "cell_type": "code",
   "execution_count": 45,
   "metadata": {},
   "outputs": [
    {
     "data": {
      "text/plain": [
       "3.4378984870792539"
      ]
     },
     "execution_count": 45,
     "metadata": {},
     "output_type": "execute_result"
    }
   ],
   "source": [
    "M7_RMSE"
   ]
  },
  {
   "cell_type": "code",
   "execution_count": 46,
   "metadata": {},
   "outputs": [
    {
     "data": {
      "text/plain": [
       "(107, 107, 107)"
      ]
     },
     "execution_count": 46,
     "metadata": {},
     "output_type": "execute_result"
    }
   ],
   "source": [
    "len(M7_pred),len(M7_actual),len(dfM.DATE[13:-12])"
   ]
  },
  {
   "cell_type": "code",
   "execution_count": 47,
   "metadata": {
    "collapsed": true
   },
   "outputs": [],
   "source": [
    "df_M7 = pd.DataFrame({'DATE':dfM.DATE[13:-12],'ACTUAL':[i[0] for i in M7_actual],\n",
    "                      'M7':[i[0] for i in M7_pred],\n",
    "                     'BASELINE':dfM.t[13:-12]})"
   ]
  },
  {
   "cell_type": "code",
   "execution_count": 48,
   "metadata": {},
   "outputs": [
    {
     "data": {
      "text/plain": [
       "<matplotlib.legend.Legend at 0x21c65dd4a8>"
      ]
     },
     "execution_count": 48,
     "metadata": {},
     "output_type": "execute_result"
    },
    {
     "data": {
      "image/png": "[encoded data removed]",
      "text/plain": [
       "<matplotlib.figure.Figure at 0x21c6516588>"
      ]
     },
     "metadata": {},
     "output_type": "display_data"
    }
   ],
   "source": [
    "#Plot model results\n",
    "plt.plot(df_M7.DATE,df_M7.ACTUAL,color = 'steelblue')\n",
    "#plt.plot(df_M1.DATE,df_M1.BASELINE,'--',color='steelblue')\n",
    "plt.plot(df_M7.DATE,df_M7.M7, '--', color = 'red')\n",
    "plt.title('M7 Model vs Actual - Backtest')\n",
    "axes = plt.gca()\n",
    "axes.set_ylim([0,20])\n",
    "plt.legend()"
   ]
  },
  {
   "cell_type": "markdown",
   "metadata": {},
   "source": [
    "# Notes on model\n",
    "1 - The model appears to overfit with respect to some of the spikes and might be improved with regularization to smooth these out.  \n",
    "2 - The model might be improved by adding lag variables, prior period Brooklyn and Precinct 75 counts, or moving average of prior months.  \n",
    "3 - The model prediction isn't an integer and there cannot be partial crimes, so either integer programming is needed or results can be rounded to simplify    \n",
    "4 - the spikes are generally not due to seasonality, it is possible there are features outside the data set that could better predict these.  "
   ]
  },
  {
   "cell_type": "markdown",
   "metadata": {
    "collapsed": true
   },
   "source": [
    "# Three Month Prediction\n",
    "Use the model output for one month as input to the prediction 2 months out, and then again for three months out"
   ]
  },
  {
   "cell_type": "code",
   "execution_count": null,
   "metadata": {
    "collapsed": true
   },
   "outputs": [],
   "source": []
  }
 ],
 "metadata": {
  "kernelspec": {
   "display_name": "Python 3",
   "language": "python",
   "name": "python3"
  },
  "language_info": {
   "codemirror_mode": {
    "name": "ipython",
    "version": 3
   },
   "file_extension": ".py",
   "mimetype": "text/x-python",
   "name": "python",
   "nbconvert_exporter": "python",
   "pygments_lexer": "ipython3",
   "version": "3.6.3"
  }
 },
 "nbformat": 4,
 "nbformat_minor": 2
}
